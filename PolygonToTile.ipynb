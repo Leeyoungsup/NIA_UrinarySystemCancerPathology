{
 "cells": [
  {
   "cell_type": "code",
   "execution_count": 5,
   "metadata": {},
   "outputs": [],
   "source": [
    "import numpy as np\n",
    "import slideio\n",
    "import cv2\n",
    "import json\n",
    "import matplotlib.path as mpltPath\n",
    "import os\n",
    "import warnings\n",
    "import tifffile\n",
    "from skimage import exposure\n",
    "from skimage.exposure import match_histograms\n",
    "import xml.etree.ElementTree as ET\n",
    "import pandas as pd\n",
    "from PIL import Image\n",
    "from math import sqrt\n",
    "import matplotlib.pyplot as plt\n",
    "from glob import glob\n",
    "from copy import copy\n",
    "from tqdm.notebook import tqdm\n",
    "import warnings\n",
    "import staintools\n",
    "\n",
    "# 경고 메시지를 무시하도록 설정\n",
    "warnings.filterwarnings(\"ignore\")"
   ]
  },
  {
   "cell_type": "code",
   "execution_count": 13,
   "metadata": {},
   "outputs": [],
   "source": [
    "def svsToTiff(imageCount):\n",
    "    global svsWidth,svsHeight,path,scene,fileName\n",
    "    slide_tile_size=512\n",
    "    for widthCount in range(0, int(svsWidth // slide_tile_size)):\n",
    "        for heightCount in range(0, int(svsHeight // slide_tile_size)):\n",
    "            points = np.array([path.contains_point(np.array([widthCount* slide_tile_size, heightCount* slide_tile_size])), path.contains_point(np.array([widthCount* slide_tile_size, (heightCount+1)* slide_tile_size])), \n",
    "                                 path.contains_point(np.array([(widthCount+1)* slide_tile_size, heightCount* slide_tile_size])),\n",
    "                                path.contains_point(np.array([(widthCount+1)* slide_tile_size, (heightCount+1)* slide_tile_size]))])\n",
    "            inside = np.mean(points)>0\n",
    "            Full=np.mean(points)>=0\n",
    "            if (inside):\n",
    "                image = scene.read_block((widthCount * slide_tile_size, heightCount * slide_tile_size, slide_tile_size, slide_tile_size),size=(256,256))\n",
    "                if np.where(image[:,:,1]>=230)[0].shape[0]<(256*256)/4:\n",
    "                    TiffImageSave(image, fileName, widthCount,heightCount)\n",
    "                    imageCount += 1\n",
    "            \n",
    "    return imageCount\n",
    "def TiffImageSave(image1,fileName,widthCount,heightCount):\n",
    "    global normalizer2x,normalizer5x,normalizer10x,tmp_img,label\n",
    "    img=Image.fromarray(image1) \n",
    "    img.save('../../data/tile_data/'+label+'/'+fileName+'/'+fileName+'_'+str(widthCount*512)+'_'+str(heightCount*512)+'.jpg')\n",
    "def createDirectory(directory):\n",
    "    try:\n",
    "        if not os.path.exists(directory):\n",
    "            os.makedirs(directory)\n",
    "    except OSError:\n",
    "        print(\"Error: Failed to create the directory.\")    \n",
    "      \n",
    "    "
   ]
  },
  {
   "cell_type": "code",
   "execution_count": 11,
   "metadata": {},
   "outputs": [],
   "source": [
    "normal_svs_files=glob('../../data/WHI/normal/*.tiff')\n",
    "tumor_svs_files=glob('../../data/WHI/tumor/*.tiff')\n",
    "normal_json_files = [f.replace('/WHI', '/json') for f in normal_svs_files]\n",
    "normal_json_files = [f.replace('.tiff', '.json') for f in normal_json_files ]\n",
    "tumor_json_files = [f.replace('/WHI', '/json') for f in tumor_svs_files]\n",
    "tumor_json_files = [f.replace('.tiff', '.json') for f in tumor_json_files ]\n"
   ]
  },
  {
   "cell_type": "code",
   "execution_count": 15,
   "metadata": {},
   "outputs": [
    {
     "data": {
      "application/vnd.jupyter.widget-view+json": {
       "model_id": "f8d533ab51474a64b59b3a8b321ba087",
       "version_major": 2,
       "version_minor": 0
      },
      "text/plain": [
       "  0%|          | 0/50 [00:00<?, ?it/s]"
      ]
     },
     "metadata": {},
     "output_type": "display_data"
    }
   ],
   "source": [
    "for i in tqdm(range(len(tumor_svs_files))):\n",
    "    file_extension_index=tumor_svs_files[i].find('.tiff')\n",
    "    fileName=os.path.basename(os.path.splitext(tumor_svs_files[i])[0])\n",
    "    slide = slideio.open_slide(tumor_svs_files[i], \"GDAL\")\n",
    "    scene = slide.get_scene(0)\n",
    "    svsWidth = scene.rect[2]\n",
    "    svsHeight = scene.rect[3]\n",
    "    imageCount=0\n",
    "    magnification=80\n",
    "    createDirectory('../../data/tile_data/tumor/'+fileName)\n",
    "    tile_size=256\n",
    "    label='tumor'\n",
    "    with open(tumor_json_files[i]) as f:\n",
    "        json_object = json.load(f)\n",
    "    polygon_count=len(json_object['files'][0]['objects'])\n",
    "    for j in range(polygon_count):\n",
    "        polygon=np.array(json_object['files'][0]['objects'][j]['coordinate'])\n",
    "        polygon1=np.copy(polygon)\n",
    "        polygon1[:,0]=polygon[:,1]\n",
    "        polygon1[:,1]=polygon[:,0]\n",
    "        path = mpltPath.Path(polygon1)\n",
    "        imageCount=svsToTiff(imageCount)\n",
    "   \n"
   ]
  },
  {
   "cell_type": "code",
   "execution_count": 14,
   "metadata": {},
   "outputs": [
    {
     "data": {
      "application/vnd.jupyter.widget-view+json": {
       "model_id": "71788cc2270e4261927fe2c0ee065533",
       "version_major": 2,
       "version_minor": 0
      },
      "text/plain": [
       "  0%|          | 0/50 [00:00<?, ?it/s]"
      ]
     },
     "metadata": {},
     "output_type": "display_data"
    }
   ],
   "source": [
    "for i in tqdm(range(len(normal_svs_files))):\n",
    "    file_extension_index=normal_svs_files[i].find('.tiff')\n",
    "    fileName=os.path.basename(os.path.splitext(normal_svs_files[i])[0])\n",
    "    slide = slideio.open_slide(normal_svs_files[i], \"GDAL\")\n",
    "    scene = slide.get_scene(0)\n",
    "    svsWidth = scene.rect[2]\n",
    "    svsHeight = scene.rect[3]\n",
    "    imageCount=0\n",
    "    magnification=80\n",
    "    createDirectory('../../data/tile_data/normal/'+fileName)\n",
    "    tile_size=256\n",
    "    label='normal'\n",
    "    with open(normal_json_files[i]) as f:\n",
    "        json_object = json.load(f)\n",
    "    polygon_count=len(json_object['files'][0]['objects'])\n",
    "    for j in range(polygon_count):\n",
    "        polygon=np.array(json_object['files'][0]['objects'][j]['coordinate'])\n",
    "        polygon1=np.copy(polygon)\n",
    "        polygon1[:,0]=polygon[:,1]\n",
    "        polygon1[:,1]=polygon[:,0]\n",
    "        path = mpltPath.Path(polygon1)\n",
    "        imageCount=svsToTiff(imageCount)\n",
    "   "
   ]
  }
 ],
 "metadata": {
  "kernelspec": {
   "display_name": "LeeYS_tf210",
   "language": "python",
   "name": "python3"
  },
  "language_info": {
   "codemirror_mode": {
    "name": "ipython",
    "version": 3
   },
   "file_extension": ".py",
   "mimetype": "text/x-python",
   "name": "python",
   "nbconvert_exporter": "python",
   "pygments_lexer": "ipython3",
   "version": "3.8.13"
  },
  "orig_nbformat": 4
 },
 "nbformat": 4,
 "nbformat_minor": 2
}
