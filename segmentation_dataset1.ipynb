{
 "cells": [
  {
   "cell_type": "code",
   "execution_count": 1,
   "metadata": {},
   "outputs": [],
   "source": [
    "import os\n",
    "import numpy as np \n",
    "from glob import glob\n",
    "from PIL import Image\n",
    "import cv2\n",
    "import slideio\n",
    "import json\n",
    "from skimage.draw import polygon2mask\n",
    "import matplotlib.pyplot as plt\n",
    "from tqdm.notebook import tqdm\n",
    "import random\n",
    "def createDirectory(directory):\n",
    "    try:\n",
    "        if not os.path.exists(directory):\n",
    "            os.makedirs(directory)\n",
    "    except OSError:\n",
    "        print(\"Error: Failed to create the directory.\")\n"
   ]
  },
  {
   "cell_type": "code",
   "execution_count": 2,
   "metadata": {},
   "outputs": [],
   "source": [
    "in_situ_whi_list=glob('../../data/1-cycle_30%_중간데이터/1_insitu/WSI/*.tiff')\n",
    "normal_whi_list=glob('../../data/1-cycle_30%_중간데이터/0_normal/WSI/*.tiff')\n",
    "malignant_whi_list=glob('../../data/1-cycle_30%_중간데이터/2_malignant/WSI/*.tiff')\n",
    "image_path='../../data/1-cycle_30%_중간데이터/segmentation/train/image/'\n",
    "normal_mask_path='../../data/1-cycle_30%_중간데이터/segmentation/train/polygon/NT_normal/'\n",
    "tumor_mask_path='../../data/1-cycle_30%_중간데이터/segmentation//train/polygon/TP_tumor/'\n",
    "test_image_path='../../data/1-cycle_30%_중간데이터/segmentation/test/image/'\n",
    "test_normal_mask_path='../../data/1-cycle_30%_중간데이터/segmentation/test/polygon/NT_normal/'\n",
    "test_tumor_mask_path='../../data/1-cycle_30%_중간데이터/segmentation//test/polygon/TP_tumor/'\n",
    "\n",
    "def size_ratio(scene,img_size):\n",
    "    width = scene.rect[2]\n",
    "    height = scene.rect[3]\n",
    "    ratio=0\n",
    "    inverse_ratio=0\n",
    "    img_width=0\n",
    "    img_height=0\n",
    "    if width>height:\n",
    "        ratio=img_size/width\n",
    "        inverse_ratio=width/img_size\n",
    "        img_width=img_size\n",
    "        img_height=height*ratio\n",
    "    else:\n",
    "        ratio=img_size/height\n",
    "        inverse_ratio=height/img_size\n",
    "        img_height=img_size\n",
    "        img_width=width*ratio\n",
    "        \n",
    "    return int(img_width),int(img_height),inverse_ratio\n",
    "\n"
   ]
  },
  {
   "cell_type": "code",
   "execution_count": 3,
   "metadata": {},
   "outputs": [
    {
     "data": {
      "application/vnd.jupyter.widget-view+json": {
       "model_id": "2c5931c85ed448de8b1921c765d32a2c",
       "version_major": 2,
       "version_minor": 0
      },
      "text/plain": [
       "  0%|          | 0/1485 [00:00<?, ?it/s]"
      ]
     },
     "metadata": {},
     "output_type": "display_data"
    }
   ],
   "source": [
    "json_list=[f.replace('/WSI/', '/json/') for f in in_situ_whi_list]\n",
    "json_list=[f.replace('.tiff', '.json') for f in json_list]\n",
    "for i in tqdm(range(len(in_situ_whi_list))):\n",
    "    slide = slideio.open_slide(in_situ_whi_list[i], \"GDAL\")\n",
    "    fileName=os.path.basename(os.path.splitext(in_situ_whi_list[i])[0])\n",
    "    num_scenes = slide.num_scenes\n",
    "    scene = slide.get_scene(0)\n",
    "    img_width,img_height,ratio=size_ratio(scene,2048)\n",
    "    svsWidth = scene.rect[2]\n",
    "    svsHeight = scene.rect[3]\n",
    "    slide_block = scene.read_block((0, 0, svsWidth, svsHeight),size=(int(img_width), int(img_height)))\n",
    "    image=cv2.cvtColor(slide_block, cv2.COLOR_BGR2RGB)\n",
    "    tumor_mask=np.zeros((img_height,img_width),dtype=np.uint8)\n",
    "    normal_mask=np.zeros((img_height,img_width),dtype=np.uint8)\n",
    "    total_mask=np.zeros((img_height,img_width),dtype=np.uint8)\n",
    "    with open(json_list[i]) as f:\n",
    "        json_object = json.load(f)\n",
    "    polygon_count=len(json_object['files'][0]['objects'])\n",
    "    image_shape=(img_height,img_width)\n",
    "    for j in range(polygon_count):\n",
    "        if json_object['files'][0]['objects'][j]['label']=='TP_tumor':\n",
    "            polygon=np.array(json_object['files'][0]['objects'][j]['coordinate'])*1/ratio\n",
    "            polygon1=np.copy(polygon)\n",
    "            polygon1[:,0]=polygon[:,1]\n",
    "            polygon1[:,1]=polygon[:,0]\n",
    "            mask=polygon2mask(image_shape,polygon1)\n",
    "            tumor_mask=mask+tumor_mask\n",
    "    tumor_mask=np.where(tumor_mask>0,255,0)\n",
    "    tumor_mask=cv2.cvtColor(tumor_mask.astype(np.uint8), cv2.COLOR_GRAY2RGB)\n",
    "    t, t_otsu = cv2.threshold(image[:,:,1], -1, 255,  cv2.THRESH_BINARY | cv2.THRESH_OTSU) \n",
    "    k = cv2.getStructuringElement(cv2.MORPH_RECT, (15,15))\n",
    "    t_otsu = cv2.morphologyEx(t_otsu, cv2.MORPH_OPEN, k)\n",
    "    total_mask=255-cv2.cvtColor(t_otsu.astype(np.uint8), cv2.COLOR_GRAY2RGB)\n",
    "    normal_mask=np.where((total_mask-tumor_mask)>200,255,0)\n",
    "    if random.randrange(1,6)==5:\n",
    "        cv2.imwrite(test_tumor_mask_path+fileName+'.tiff',tumor_mask )\n",
    "        cv2.imwrite(test_normal_mask_path+fileName+'.tiff',normal_mask.astype(np.uint8) )\n",
    "        cv2.imwrite(test_image_path+fileName+'.tiff',image )\n",
    "    else:\n",
    "        cv2.imwrite(tumor_mask_path+fileName+'.tiff',tumor_mask )\n",
    "        cv2.imwrite(normal_mask_path+fileName+'.tiff',normal_mask.astype(np.uint8) )\n",
    "        cv2.imwrite(image_path+fileName+'.tiff',image )"
   ]
  },
  {
   "cell_type": "code",
   "execution_count": 4,
   "metadata": {},
   "outputs": [
    {
     "data": {
      "application/vnd.jupyter.widget-view+json": {
       "model_id": "f55d43ee5e714b91b863000ed97612f4",
       "version_major": 2,
       "version_minor": 0
      },
      "text/plain": [
       "  0%|          | 0/1765 [00:00<?, ?it/s]"
      ]
     },
     "metadata": {},
     "output_type": "display_data"
    }
   ],
   "source": [
    "json_list=[f.replace('/WSI/', '/json/') for f in malignant_whi_list]\n",
    "json_list=[f.replace('.tiff', '.json') for f in json_list]\n",
    "for i in tqdm(range(len(malignant_whi_list))):\n",
    "    slide = slideio.open_slide(malignant_whi_list[i], \"GDAL\")\n",
    "    fileName=os.path.basename(os.path.splitext(malignant_whi_list[i])[0])\n",
    "    num_scenes = slide.num_scenes\n",
    "    scene = slide.get_scene(0)\n",
    "    img_width,img_height,ratio=size_ratio(scene,2048)\n",
    "    svsWidth = scene.rect[2]\n",
    "    svsHeight = scene.rect[3]\n",
    "    slide_block = scene.read_block((0, 0, svsWidth, svsHeight),size=(int(img_width), int(img_height)))\n",
    "    image=cv2.cvtColor(slide_block, cv2.COLOR_BGR2RGB)\n",
    "    tumor_mask=np.zeros((img_height,img_width),dtype=np.uint8)\n",
    "    normal_mask=np.zeros((img_height,img_width),dtype=np.uint8)\n",
    "    total_mask=np.zeros((img_height,img_width),dtype=np.uint8)\n",
    "    with open(json_list[i]) as f:\n",
    "        json_object = json.load(f)\n",
    "    polygon_count=len(json_object['files'][0]['objects'])\n",
    "    image_shape=(img_height,img_width)\n",
    "    for j in range(polygon_count):\n",
    "        if json_object['files'][0]['objects'][j]['label']=='TP_tumor':\n",
    "            polygon=np.array(json_object['files'][0]['objects'][j]['coordinate'])*1/ratio\n",
    "            polygon1=np.copy(polygon)\n",
    "            polygon1[:,0]=polygon[:,1]\n",
    "            polygon1[:,1]=polygon[:,0]\n",
    "            mask=polygon2mask(image_shape,polygon1)\n",
    "            tumor_mask=mask+tumor_mask\n",
    "    tumor_mask=np.where(tumor_mask>0,255,0)\n",
    "    tumor_mask=cv2.cvtColor(tumor_mask.astype(np.uint8), cv2.COLOR_GRAY2RGB)\n",
    "    t, t_otsu = cv2.threshold(image[:,:,1], -1, 255,  cv2.THRESH_BINARY | cv2.THRESH_OTSU) \n",
    "    k = cv2.getStructuringElement(cv2.MORPH_RECT, (15,15))\n",
    "    t_otsu = cv2.morphologyEx(t_otsu, cv2.MORPH_OPEN, k)\n",
    "    total_mask=255-cv2.cvtColor(t_otsu.astype(np.uint8), cv2.COLOR_GRAY2RGB)\n",
    "    normal_mask=np.where((total_mask-tumor_mask)>200,255,0)\n",
    "    if random.randrange(1,6)==5:\n",
    "        cv2.imwrite(test_tumor_mask_path+fileName+'.tiff',tumor_mask )\n",
    "        cv2.imwrite(test_normal_mask_path+fileName+'.tiff',normal_mask.astype(np.uint8) )\n",
    "        cv2.imwrite(test_image_path+fileName+'.tiff',image )\n",
    "    else:\n",
    "        cv2.imwrite(tumor_mask_path+fileName+'.tiff',tumor_mask )\n",
    "        cv2.imwrite(normal_mask_path+fileName+'.tiff',normal_mask.astype(np.uint8) )\n",
    "        cv2.imwrite(image_path+fileName+'.tiff',image )"
   ]
  },
  {
   "cell_type": "code",
   "execution_count": 5,
   "metadata": {},
   "outputs": [
    {
     "data": {
      "application/vnd.jupyter.widget-view+json": {
       "model_id": "0ecb1834183d4a5ca2c2d3f43ee33d19",
       "version_major": 2,
       "version_minor": 0
      },
      "text/plain": [
       "  0%|          | 0/500 [00:00<?, ?it/s]"
      ]
     },
     "metadata": {},
     "output_type": "display_data"
    }
   ],
   "source": [
    "json_list=[f.replace('/WSI/', '/json/') for f in normal_whi_list]\n",
    "json_list=[f.replace('.tiff', '.json') for f in json_list]\n",
    "for i in tqdm(range(len(normal_whi_list))):\n",
    "    slide = slideio.open_slide(normal_whi_list[i], \"GDAL\")\n",
    "    fileName=os.path.basename(os.path.splitext(normal_whi_list[i])[0])\n",
    "    num_scenes = slide.num_scenes\n",
    "    scene = slide.get_scene(0)\n",
    "    img_width,img_height,ratio=size_ratio(scene,2048)\n",
    "    svsWidth = scene.rect[2]\n",
    "    svsHeight = scene.rect[3]\n",
    "    slide_block = scene.read_block((0, 0, svsWidth, svsHeight),size=(int(img_width), int(img_height)))\n",
    "    image=cv2.cvtColor(slide_block, cv2.COLOR_BGR2RGB)\n",
    "    tumor_mask=np.zeros((img_height,img_width),dtype=np.uint8)\n",
    "    normal_mask=np.zeros((img_height,img_width),dtype=np.uint8)\n",
    "    total_mask=np.zeros((img_height,img_width),dtype=np.uint8)\n",
    "    with open(json_list[i]) as f:\n",
    "        json_object = json.load(f)\n",
    "    polygon_count=len(json_object['files'][0]['objects'])\n",
    "    image_shape=(img_height,img_width)\n",
    "    for j in range(polygon_count):\n",
    "        if json_object['files'][0]['objects'][j]['label']=='TP_tumor':\n",
    "            polygon=np.array(json_object['files'][0]['objects'][j]['coordinate'])*1/ratio\n",
    "            polygon1=np.copy(polygon)\n",
    "            polygon1[:,0]=polygon[:,1]\n",
    "            polygon1[:,1]=polygon[:,0]\n",
    "            mask=polygon2mask(image_shape,polygon1)\n",
    "            tumor_mask=mask+tumor_mask\n",
    "    tumor_mask=np.where(tumor_mask>0,255,0)\n",
    "    tumor_mask=cv2.cvtColor(tumor_mask.astype(np.uint8), cv2.COLOR_GRAY2RGB)\n",
    "    t, t_otsu = cv2.threshold(image[:,:,1], -1, 255,  cv2.THRESH_BINARY | cv2.THRESH_OTSU) \n",
    "    k = cv2.getStructuringElement(cv2.MORPH_RECT, (15,15))\n",
    "    t_otsu = cv2.morphologyEx(t_otsu, cv2.MORPH_OPEN, k)\n",
    "    total_mask=255-cv2.cvtColor(t_otsu.astype(np.uint8), cv2.COLOR_GRAY2RGB)\n",
    "    normal_mask=np.where((total_mask-tumor_mask)>200,255,0)\n",
    "    if random.randrange(1,6)==5:\n",
    "        cv2.imwrite(test_tumor_mask_path+fileName+'.tiff',tumor_mask )\n",
    "        cv2.imwrite(test_normal_mask_path+fileName+'.tiff',normal_mask.astype(np.uint8) )\n",
    "        cv2.imwrite(test_image_path+fileName+'.tiff',image )\n",
    "    else:\n",
    "        cv2.imwrite(tumor_mask_path+fileName+'.tiff',tumor_mask )\n",
    "        cv2.imwrite(normal_mask_path+fileName+'.tiff',normal_mask.astype(np.uint8) )\n",
    "        cv2.imwrite(image_path+fileName+'.tiff',image )"
   ]
  }
 ],
 "metadata": {
  "kernelspec": {
   "display_name": "LeeYS",
   "language": "python",
   "name": "python3"
  },
  "language_info": {
   "codemirror_mode": {
    "name": "ipython",
    "version": 3
   },
   "file_extension": ".py",
   "mimetype": "text/x-python",
   "name": "python",
   "nbconvert_exporter": "python",
   "pygments_lexer": "ipython3",
   "version": "3.9.0"
  }
 },
 "nbformat": 4,
 "nbformat_minor": 2
}
