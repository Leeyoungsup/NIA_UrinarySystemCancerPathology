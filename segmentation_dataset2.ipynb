{
 "cells": [
  {
   "cell_type": "code",
   "execution_count": 1,
   "metadata": {},
   "outputs": [],
   "source": [
    "import os\n",
    "import numpy as np \n",
    "from glob import glob\n",
    "from PIL import Image\n",
    "import cv2\n",
    "import slideio\n",
    "import json\n",
    "from skimage.draw import polygon2mask\n",
    "import matplotlib.pyplot as plt\n",
    "from tqdm.notebook import tqdm\n",
    "import random\n",
    "import math\n",
    "def createDirectory(directory):\n",
    "    try:\n",
    "        if not os.path.exists(directory):\n",
    "            os.makedirs(directory)\n",
    "    except OSError:\n",
    "        print(\"Error: Failed to create the directory.\")\n"
   ]
  },
  {
   "cell_type": "code",
   "execution_count": 2,
   "metadata": {},
   "outputs": [],
   "source": [
    "whi_list=glob('../../data/sel_50/**/tiff/*.tiff')\n",
    "tumor_list=glob('../../data/segmentation/whi/**/mask/TP_tumor/*.tiff')\n",
    "normal_list=glob('../../data/segmentation/whi/**/mask/NT_normal/*.tiff')\n",
    "\n",
    "train_tumor_path='../../data/segmentation/tile/train/TP_tumor/'\n",
    "test_tumor_path='../../data/segmentation/tile/test/TP_tumor/'\n",
    "train_normal_path='../../data/segmentation/tile/train/NT_normal/'\n",
    "test_normal_path='../../data/segmentation/tile/test/NT_normal/'\n",
    "\n",
    "def size_ratio(scene,img_size):\n",
    "    width = scene.rect[2]\n",
    "    height = scene.rect[3]\n",
    "    ratio=0\n",
    "    inverse_ratio=0\n",
    "    img_width=0\n",
    "    img_height=0\n",
    "    if width>height:\n",
    "        ratio=img_size/width\n",
    "        inverse_ratio=width/img_size\n",
    "        img_width=img_size\n",
    "        img_height=height*ratio\n",
    "    else:\n",
    "        ratio=img_size/height\n",
    "        inverse_ratio=height/img_size\n",
    "        img_height=img_size\n",
    "        img_width=width*ratio\n",
    "        \n",
    "    return int(img_width),int(img_height),inverse_ratio\n",
    "\n"
   ]
  },
  {
   "cell_type": "code",
   "execution_count": 3,
   "metadata": {},
   "outputs": [
    {
     "data": {
      "application/vnd.jupyter.widget-view+json": {
       "model_id": "1a36b1ba2e524df6906cc3ace4df9664",
       "version_major": 2,
       "version_minor": 0
      },
      "text/plain": [
       "  0%|          | 0/144 [00:00<?, ?it/s]"
      ]
     },
     "metadata": {},
     "output_type": "display_data"
    }
   ],
   "source": [
    "\n",
    "slide_tile_size=512\n",
    "for i in tqdm(range(len(whi_list))):\n",
    "    tumor_count=0\n",
    "    normal_count=0\n",
    "    fileName=os.path.basename(os.path.splitext(whi_list[i])[0])\n",
    "    slide = slideio.open_slide(whi_list[i], \"GDAL\")\n",
    "    scene = slide.get_scene(0)\n",
    "    svsWidth = scene.rect[2]\n",
    "    svsHeight = scene.rect[3]\n",
    "    tumor_mask=[s for s in tumor_list if fileName in s][0]\n",
    "    normal_mask=[s for s in normal_list if fileName in s][0]\n",
    "    if tumor_mask.find('test')==-1:\n",
    "        class_group='train'\n",
    "        createDirectory(train_tumor_path+fileName)\n",
    "        createDirectory(train_normal_path+fileName)\n",
    "    else:\n",
    "        class_group='test'\n",
    "        createDirectory(test_tumor_path+fileName)\n",
    "        createDirectory(test_normal_path+fileName)\n",
    "    tumor_image=np.array(Image.open(tumor_mask))\n",
    "    normal_image=np.array(Image.open(normal_mask))\n",
    "    ratio=0\n",
    "    if svsWidth>svsHeight:\n",
    "        ratio=svsWidth/slide_tile_size\n",
    "    else:\n",
    "        ratio=svsHeight/slide_tile_size\n",
    "    inverse_ratio=math.floor(1/ratio*10000)/10000\n",
    "    for widthCount in range(0, int(svsWidth // slide_tile_size)):\n",
    "            for heightCount in range(0, int(svsHeight // slide_tile_size)):\n",
    "                point_x =np.linspace(widthCount*slide_tile_size,widthCount*slide_tile_size+slide_tile_size-1,slide_tile_size,dtype=np.int32)\n",
    "                point_y =np.linspace(heightCount*slide_tile_size,heightCount*slide_tile_size+slide_tile_size-1,slide_tile_size,dtype=np.int32)\n",
    "                point=np.meshgrid(point_x,point_y)\n",
    "                mask_point=np.copy(point)\n",
    "                mask_point[0]=(mask_point[0]*inverse_ratio).astype(np.int64)\n",
    "                mask_point[1]=(mask_point[1]*inverse_ratio).astype(np.int64)\n",
    "                if mask_point[0].max()==tumor_image.shape[1]:\n",
    "                    mask_point[0]-=1\n",
    "                if mask_point[1].max()==tumor_image.shape[0]:\n",
    "                    mask_point[1]-=1\n",
    "                try:\n",
    "                    tile_tumor_image=tumor_image[mask_point[1],mask_point[0]]/255\n",
    "                    tile_normal_image=normal_image[mask_point[1],mask_point[0]]/255\n",
    "                    if tile_tumor_image.mean()>0:\n",
    "                        \n",
    "                        image = scene.read_block((widthCount * slide_tile_size, heightCount * slide_tile_size, slide_tile_size, slide_tile_size),size=(256,256))\n",
    "                        if np.where(image[:,:,1]>=230)[0].shape[0]<(256*256)*0.8:\n",
    "                            img=Image.fromarray(image)\n",
    "                            tumor_count+=1\n",
    "                            if class_group=='train':\n",
    "                                img.save(train_tumor_path+fileName+'/'+fileName+'_'+str(tumor_count)+'.jpg')\n",
    "                            else:\n",
    "                                img.save(test_tumor_path+fileName+'/'+fileName+'_'+str(tumor_count)+'.jpg')\n",
    "                    elif tile_normal_image.mean()>0:\n",
    "                        \n",
    "                        image = scene.read_block((widthCount * slide_tile_size, heightCount * slide_tile_size, slide_tile_size, slide_tile_size),size=(256,256))\n",
    "                        if np.where(image[:,:,1]>=230)[0].shape[0]<(256*256)*0.8:\n",
    "                            img=Image.fromarray(image)\n",
    "                            normal_count+=1\n",
    "                            if class_group=='train':\n",
    "                                img.save(train_normal_path+fileName+'/'+fileName+'_'+str(normal_count)+'.jpg')\n",
    "                            else:\n",
    "                                img.save(test_normal_path+fileName+'/'+fileName+'_'+str(normal_count)+'.jpg')\n",
    "                        \n",
    "                    \n",
    "                except:\n",
    "                    print(fileName)"
   ]
  }
 ],
 "metadata": {
  "kernelspec": {
   "display_name": "LeeYS",
   "language": "python",
   "name": "python3"
  },
  "language_info": {
   "codemirror_mode": {
    "name": "ipython",
    "version": 3
   },
   "file_extension": ".py",
   "mimetype": "text/x-python",
   "name": "python",
   "nbconvert_exporter": "python",
   "pygments_lexer": "ipython3",
   "version": "3.9.0"
  }
 },
 "nbformat": 4,
 "nbformat_minor": 2
}
