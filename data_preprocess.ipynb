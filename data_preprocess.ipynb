{
 "cells": [
  {
   "cell_type": "code",
   "execution_count": 5,
   "metadata": {},
   "outputs": [],
   "source": [
    "import os\n",
    "import numpy as np \n",
    "from glob import glob\n",
    "from PIL import Image\n",
    "import cv2\n",
    "import slideio\n",
    "import json\n",
    "import time\n",
    "import datetime\n",
    "from skimage.draw import polygon2mask\n",
    "from tqdm.auto import tqdm\n",
    "whi_list=glob('../../data/1-cycle_30%_중간데이터/test/**/WSI/*.tiff')\n",
    "image_path='../../data/1-cycle_30%_중간데이터/whole_tile/image/'\n",
    "normal_mask_path='../../data/1-cycle_30%_중간데이터/whole_tile/polygon/NT_normal/'\n",
    "tumor_mask_path='../../data/1-cycle_30%_중간데이터/whole_tile/polygon/TP_tumor/'"
   ]
  },
  {
   "cell_type": "code",
   "execution_count": 6,
   "metadata": {},
   "outputs": [],
   "source": [
    "\n",
    "def createDirectory(directory):\n",
    "    try:\n",
    "        if not os.path.exists(directory):\n",
    "            os.makedirs(directory)\n",
    "    except OSError:\n",
    "        print(\"Error: Failed to create the directory.\")\n",
    "def size_ratio(scene,img_size):\n",
    "    width = scene.rect[2]\n",
    "    height = scene.rect[3]\n",
    "    ratio=0\n",
    "    inverse_ratio=0\n",
    "    img_width=0\n",
    "    img_height=0\n",
    "    if width>height:\n",
    "        ratio=img_size/width\n",
    "        inverse_ratio=width/img_size\n",
    "        img_width=img_size\n",
    "        img_height=height*ratio\n",
    "    else:\n",
    "        ratio=img_size/height\n",
    "        inverse_ratio=height/img_size\n",
    "        img_height=img_size\n",
    "        img_width=width*ratio\n",
    "        \n",
    "    return int(img_width),int(img_height),inverse_ratio"
   ]
  },
  {
   "cell_type": "code",
   "execution_count": 7,
   "metadata": {},
   "outputs": [],
   "source": [
    "def Preprocessing(whi_list,image_path,normal_mask_path,tumor_mask_path):\n",
    "    start = time.time()\n",
    "    d = datetime.datetime.now()\n",
    "    now_time = f\"{d.year}-{d.month}-{d.day} {d.hour}:{d.minute}:{d.second}\"\n",
    "    print(f'[Preprocessing Start]')\n",
    "    print(f'Preprocessing Start Time : {now_time}')\n",
    "    json_list=[f.replace('/WSI/', '/json/') for f in whi_list]\n",
    "    json_list=[f.replace('.tiff', '.json') for f in json_list]\n",
    "    createDirectory(image_path)\n",
    "    createDirectory(normal_mask_path)\n",
    "    createDirectory(tumor_mask_path)\n",
    "    for i in tqdm(range(len(whi_list))):\n",
    "        slide = slideio.open_slide(whi_list[i], \"GDAL\")\n",
    "        fileName=os.path.basename(os.path.splitext(whi_list[i])[0])\n",
    "        num_scenes = slide.num_scenes\n",
    "        scene = slide.get_scene(0)\n",
    "        img_width,img_height,ratio=size_ratio(scene,2048)\n",
    "        svsWidth = scene.rect[2]\n",
    "        svsHeight = scene.rect[3]\n",
    "        slide_block = scene.read_block((0, 0, svsWidth, svsHeight),size=(int(img_width), int(img_height)))\n",
    "        image=cv2.cvtColor(slide_block, cv2.COLOR_BGR2RGB)\n",
    "        tumor_mask=np.zeros((img_height,img_width),dtype=np.uint8)\n",
    "        normal_mask=np.zeros((img_height,img_width),dtype=np.uint8)\n",
    "        total_mask=np.zeros((img_height,img_width),dtype=np.uint8)\n",
    "        with open(json_list[i]) as f:\n",
    "            json_object = json.load(f)\n",
    "        polygon_count=len(json_object['files'][0]['objects'])\n",
    "        image_shape=(img_height,img_width)\n",
    "        for j in range(polygon_count):\n",
    "            if json_object['files'][0]['objects'][j]['label']=='TP_tumor':\n",
    "                polygon=np.array(json_object['files'][0]['objects'][j]['coordinate'])*1/ratio\n",
    "                polygon1=np.copy(polygon)\n",
    "                polygon1[:,0]=polygon[:,1]\n",
    "                polygon1[:,1]=polygon[:,0]\n",
    "                mask=polygon2mask(image_shape,polygon1)\n",
    "                tumor_mask=mask+tumor_mask\n",
    "        tumor_mask=np.where(tumor_mask>0,255,0)\n",
    "        tumor_mask=cv2.cvtColor(tumor_mask.astype(np.uint8), cv2.COLOR_GRAY2RGB)\n",
    "        t, t_otsu = cv2.threshold(image[:,:,1], -1, 255,  cv2.THRESH_BINARY | cv2.THRESH_OTSU) \n",
    "        k = cv2.getStructuringElement(cv2.MORPH_RECT, (15,15))\n",
    "        t_otsu = cv2.morphologyEx(t_otsu, cv2.MORPH_OPEN, k)\n",
    "        total_mask=255-cv2.cvtColor(t_otsu.astype(np.uint8), cv2.COLOR_GRAY2RGB)\n",
    "        normal_mask=np.where((total_mask-tumor_mask)>200,255,0)\n",
    "\n",
    "        cv2.imwrite(tumor_mask_path+fileName+'.tiff',tumor_mask )\n",
    "        cv2.imwrite(normal_mask_path+fileName+'.tiff',normal_mask.astype(np.uint8) )\n",
    "        cv2.imwrite(image_path+fileName+'.tiff',image )\n",
    "    end = time.time()\n",
    "    d = datetime.datetime.now()\n",
    "    now_time = f\"{d.year}-{d.month}-{d.day} {d.hour}:{d.minute}:{d.second}\"\n",
    "    print(f'Preprocessing Time : {now_time}s Time taken : {end-start}')\n",
    "    print(f'[Preprocessing End]')"
   ]
  },
  {
   "cell_type": "code",
   "execution_count": 8,
   "metadata": {},
   "outputs": [
    {
     "name": "stdout",
     "output_type": "stream",
     "text": [
      "[Preprocessing Start]\n",
      "Preprocessing Start Time : 2023-11-8 12:8:13\n"
     ]
    },
    {
     "data": {
      "application/vnd.jupyter.widget-view+json": {
       "model_id": "ed22b754ee7b45f2a06916456770a628",
       "version_major": 2,
       "version_minor": 0
      },
      "text/plain": [
       "  0%|          | 0/1330 [00:00<?, ?it/s]"
      ]
     },
     "metadata": {},
     "output_type": "display_data"
    },
    {
     "name": "stdout",
     "output_type": "stream",
     "text": [
      "Preprocessing Time : 2023-11-8 12:56:14s Time taken : 2881.170210838318\n",
      "[Preprocessing End]\n"
     ]
    }
   ],
   "source": [
    "Preprocessing(whi_list,image_path,normal_mask_path,tumor_mask_path)"
   ]
  }
 ],
 "metadata": {
  "kernelspec": {
   "display_name": "LeeYS",
   "language": "python",
   "name": "python3"
  },
  "language_info": {
   "codemirror_mode": {
    "name": "ipython",
    "version": 3
   },
   "file_extension": ".py",
   "mimetype": "text/x-python",
   "name": "python",
   "nbconvert_exporter": "python",
   "pygments_lexer": "ipython3",
   "version": "3.9.0"
  }
 },
 "nbformat": 4,
 "nbformat_minor": 2
}
