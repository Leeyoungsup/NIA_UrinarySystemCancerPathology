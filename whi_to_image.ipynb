{
 "cells": [
  {
   "cell_type": "code",
   "execution_count": 24,
   "metadata": {},
   "outputs": [],
   "source": [
    "import os\n",
    "import numpy as np \n",
    "from glob import glob\n",
    "from PIL import Image\n",
    "import cv2\n",
    "import slideio\n",
    "import json\n",
    "from skimage.draw import polygon2mask\n",
    "import matplotlib.pyplot as plt\n",
    "from tqdm.notebook import tqdm"
   ]
  },
  {
   "cell_type": "code",
   "execution_count": 25,
   "metadata": {},
   "outputs": [],
   "source": [
    "CLS_whi_list=glob('../../data/1-cycle_10%_초기데이터/방광암/tiff/제자리암종/*.tiff')\n",
    "normal_whi_list=glob('../../data/1-cycle_10%_초기데이터/방광암/tiff/정상(비종양)/*.tiff')\n",
    "abnormal_whi_list=glob('../../data/1-cycle_10%_초기데이터/방광암/tiff/종양(악성)/*.tiff')\n",
    "\n",
    "image_path='../../data/1-cycle_10%_초기데이터/segmentation/image/'\n",
    "CLS_mask_path='../../data/1-cycle_10%_초기데이터/classification/polygon/CLS/'\n",
    "normal_mask_path='../../data/1-cycle_10%_초기데이터/classification/polygon/normal/'\n",
    "abnormal_mask_path='../../data/1-cycle_10%_초기데이터/classification/polygon/abnormal/'\n"
   ]
  },
  {
   "cell_type": "code",
   "execution_count": 26,
   "metadata": {},
   "outputs": [],
   "source": [
    "def size_ratio(scene,img_size):\n",
    "    width = scene.rect[2]\n",
    "    height = scene.rect[3]\n",
    "    ratio=0\n",
    "    inverse_ratio=0\n",
    "    img_width=0\n",
    "    img_height=0\n",
    "    if width>height:\n",
    "        ratio=img_size/width\n",
    "        inverse_ratio=width/img_size\n",
    "        img_width=img_size\n",
    "        img_height=height*ratio\n",
    "    else:\n",
    "        ratio=img_size/height\n",
    "        inverse_ratio=height/img_size\n",
    "        img_height=img_size\n",
    "        img_width=width*ratio\n",
    "        \n",
    "    return int(img_width),int(img_height),inverse_ratio"
   ]
  },
  {
   "cell_type": "markdown",
   "metadata": {},
   "source": [
    "seg"
   ]
  },
  {
   "cell_type": "code",
   "execution_count": 32,
   "metadata": {},
   "outputs": [
    {
     "data": {
      "application/vnd.jupyter.widget-view+json": {
       "model_id": "c8f9b2d2737f47f8a111364df8e41cc3",
       "version_major": 2,
       "version_minor": 0
      },
      "text/plain": [
       "  0%|          | 0/532 [00:00<?, ?it/s]"
      ]
     },
     "metadata": {},
     "output_type": "display_data"
    }
   ],
   "source": [
    "json_list=[f.replace('/tiff/', '/json/') for f in CLS_whi_list]\n",
    "json_list=[f.replace('.tiff', '.json') for f in json_list]\n",
    "for i in tqdm(range(len(CLS_whi_list))):\n",
    "    slide = slideio.open_slide(CLS_whi_list[i], \"GDAL\")\n",
    "    fileName=os.path.basename(os.path.splitext(CLS_whi_list[i])[0])\n",
    "    num_scenes = slide.num_scenes\n",
    "    scene = slide.get_scene(0)\n",
    "    img_width,img_height,ratio=size_ratio(scene,2048)\n",
    "    svsWidth = scene.rect[2]\n",
    "    svsHeight = scene.rect[3]\n",
    "    slide_block = scene.read_block((0, 0, svsWidth, svsHeight),size=(int(img_width), int(img_height)))\n",
    "    image=cv2.cvtColor(slide_block, cv2.COLOR_BGR2RGB)\n",
    "    dst_mask=np.zeros((img_height,img_width),dtype=np.uint8)\n",
    "    with open(json_list[i]) as f:\n",
    "        json_object = json.load(f)\n",
    "    polygon_count=len(json_object['files'][0]['objects'])\n",
    "    image_shape=(img_height,img_width)\n",
    "    for j in range(polygon_count):\n",
    "        if json_object['files'][0]['objects'][j]['label']=='TP_tumor':\n",
    "            polygon=np.array(json_object['files'][0]['objects'][j]['coordinate'])*1/ratio\n",
    "            polygon1=np.copy(polygon)\n",
    "            polygon1[:,0]=polygon[:,1]\n",
    "            polygon1[:,1]=polygon[:,0]\n",
    "            mask=polygon2mask(image_shape,polygon1)\n",
    "            dst_mask=mask+dst_mask\n",
    "    dst_mask=np.where(dst_mask>0,255,0)\n",
    "    dst_mask=cv2.cvtColor(dst_mask.astype(np.uint8), cv2.COLOR_GRAY2RGB)\n",
    "    cv2.imwrite(CLS_mask_path+fileName+'.tiff', dst_mask )"
   ]
  },
  {
   "cell_type": "code",
   "execution_count": 33,
   "metadata": {},
   "outputs": [
    {
     "data": {
      "application/vnd.jupyter.widget-view+json": {
       "model_id": "f7a521ff225348fbb2bd53690beefc21",
       "version_major": 2,
       "version_minor": 0
      },
      "text/plain": [
       "  0%|          | 0/157 [00:00<?, ?it/s]"
      ]
     },
     "metadata": {},
     "output_type": "display_data"
    }
   ],
   "source": [
    "json_list=[f.replace('/tiff/', '/json/') for f in normal_whi_list]\n",
    "json_list=[f.replace('.tiff', '.json') for f in json_list]\n",
    "for i in tqdm(range(len(normal_whi_list))):\n",
    "    slide = slideio.open_slide(normal_whi_list[i], \"GDAL\")\n",
    "    fileName=os.path.basename(os.path.splitext(normal_whi_list[i])[0])\n",
    "    num_scenes = slide.num_scenes\n",
    "    scene = slide.get_scene(0)\n",
    "    img_width,img_height,ratio=size_ratio(scene,2048)\n",
    "    svsWidth = scene.rect[2]\n",
    "    svsHeight = scene.rect[3]\n",
    "    slide_block = scene.read_block((0, 0, svsWidth, svsHeight),size=(int(img_width), int(img_height)))\n",
    "    image=cv2.cvtColor(slide_block, cv2.COLOR_BGR2RGB)\n",
    "    dst_mask=np.zeros((img_height,img_width),dtype=np.uint8)\n",
    "    with open(json_list[i]) as f:\n",
    "        json_object = json.load(f)\n",
    "    polygon_count=len(json_object['files'][0]['objects'])\n",
    "    image_shape=(img_height,img_width)\n",
    "    for j in range(polygon_count):\n",
    "        if json_object['files'][0]['objects'][j]['label']=='NT_normal':\n",
    "            polygon=np.array(json_object['files'][0]['objects'][j]['coordinate'])*1/ratio\n",
    "            polygon1=np.copy(polygon)\n",
    "            polygon1[:,0]=polygon[:,1]\n",
    "            polygon1[:,1]=polygon[:,0]\n",
    "            mask=polygon2mask(image_shape,polygon1)\n",
    "            dst_mask=mask+dst_mask\n",
    "    dst_mask=np.where(dst_mask>0,255,0)\n",
    "    dst_mask=cv2.cvtColor(dst_mask.astype(np.uint8), cv2.COLOR_GRAY2RGB)\n",
    "    cv2.imwrite(normal_mask_path+fileName+'.tiff', dst_mask )"
   ]
  },
  {
   "cell_type": "code",
   "execution_count": 34,
   "metadata": {},
   "outputs": [
    {
     "data": {
      "application/vnd.jupyter.widget-view+json": {
       "model_id": "834a375facaf4b79a09853e0c625b7f4",
       "version_major": 2,
       "version_minor": 0
      },
      "text/plain": [
       "  0%|          | 0/561 [00:00<?, ?it/s]"
      ]
     },
     "metadata": {},
     "output_type": "display_data"
    }
   ],
   "source": [
    "json_list=[f.replace('/tiff/', '/json/') for f in abnormal_whi_list]\n",
    "json_list=[f.replace('.tiff', '.json') for f in json_list]\n",
    "for i in tqdm(range(len(abnormal_whi_list))):\n",
    "    slide = slideio.open_slide(abnormal_whi_list[i], \"GDAL\")\n",
    "    fileName=os.path.basename(os.path.splitext(abnormal_whi_list[i])[0])\n",
    "    num_scenes = slide.num_scenes\n",
    "    scene = slide.get_scene(0)\n",
    "    img_width,img_height,ratio=size_ratio(scene,2048)\n",
    "    svsWidth = scene.rect[2]\n",
    "    svsHeight = scene.rect[3]\n",
    "    slide_block = scene.read_block((0, 0, svsWidth, svsHeight),size=(int(img_width), int(img_height)))\n",
    "    image=cv2.cvtColor(slide_block, cv2.COLOR_BGR2RGB)\n",
    "    dst_mask=np.zeros((img_height,img_width),dtype=np.uint8)\n",
    "    with open(json_list[i]) as f:\n",
    "        json_object = json.load(f)\n",
    "    polygon_count=len(json_object['files'][0]['objects'])\n",
    "    image_shape=(img_height,img_width)\n",
    "    for j in range(polygon_count):\n",
    "        if json_object['files'][0]['objects'][j]['label']=='TP_tumor':\n",
    "            polygon=np.array(json_object['files'][0]['objects'][j]['coordinate'])*1/ratio\n",
    "            polygon1=np.copy(polygon)\n",
    "            polygon1[:,0]=polygon[:,1]\n",
    "            polygon1[:,1]=polygon[:,0]\n",
    "            mask=polygon2mask(image_shape,polygon1)\n",
    "            dst_mask=mask+dst_mask\n",
    "    dst_mask=np.where(dst_mask>0,255,0)\n",
    "    dst_mask=cv2.cvtColor(dst_mask.astype(np.uint8), cv2.COLOR_GRAY2RGB)\n",
    "    cv2.imwrite(abnormal_mask_path+fileName+'.tiff', dst_mask )"
   ]
  },
  {
   "cell_type": "markdown",
   "metadata": {},
   "source": [
    "cla"
   ]
  },
  {
   "cell_type": "code",
   "execution_count": null,
   "metadata": {},
   "outputs": [],
   "source": [
    "negative_whi_list=glob('../../data/1-cycle_10%_초기데이터/방광암/tiff/정상(비종양)/*.tiff')\n",
    "positive_whi_list=glob('../../data/1-cycle_10%_초기데이터/방광암/tiff/종양(악성)/*.tiff')\n",
    "CIS_whi_list=glob('../../data/1-cycle_10%_초기데이터/방광암/tiff/제자리암종/*.tiff')\n",
    "f_path='../../data/1-cycle_10%_초기데이터/classification/negative/'\n",
    "for i in range(len(negative_whi_list)):\n",
    "    slide = slideio.open_slide(negative_whi_list[i], \"GDAL\")\n",
    "    num_scenes = slide.num_scenes\n",
    "    \n",
    "    scene = slide.get_scene(0)\n",
    "    svsWidth = scene.rect[2]\n",
    "    svsHeight = scene.rect[3]\n",
    "    slide_block = scene.read_block((0, 0, svsWidth, svsHeight),size=(int(512), int(512)))\n",
    "    image=cv2.cvtColor(slide_block, cv2.COLOR_BGR2RGB)\n",
    "    dst_mask=np.zeros((img_height,img_width),dtype=np.uint8)\n",
    "    cv2.imwrite(f_path+str(i)+'.tiff', image)\n",
    "    \n",
    "f_path='../../data/1-cycle_10%_초기데이터/classification/positive/'\n",
    "for i in range(len(positive_whi_list)):\n",
    "    slide = slideio.open_slide(positive_whi_list[i], \"GDAL\")\n",
    "    num_scenes = slide.num_scenes\n",
    "    scene = slide.get_scene(0)\n",
    "    svsWidth = scene.rect[2]\n",
    "    svsHeight = scene.rect[3]\n",
    "    slide_block = scene.read_block((0, 0, svsWidth, svsHeight),size=(int(512), int(512)))\n",
    "    image=cv2.cvtColor(slide_block, cv2.COLOR_BGR2RGB)\n",
    "    dst_mask=np.zeros((img_height,img_width),dtype=np.uint8)\n",
    "    cv2.imwrite(f_path+str(i)+'.tiff', image)\n",
    "    \n",
    "f_path='../../data/1-cycle_10%_초기데이터/classification/CIS/'\n",
    "for i in range(len(CIS_whi_list)):\n",
    "    slide = slideio.open_slide(CIS_whi_list[i], \"GDAL\")\n",
    "    num_scenes = slide.num_scenes\n",
    "    scene = slide.get_scene(0)\n",
    "    svsWidth = scene.rect[2]\n",
    "    svsHeight = scene.rect[3]\n",
    "    slide_block = scene.read_block((0, 0, svsWidth, svsHeight),size=(int(512), int(512)))\n",
    "    image=cv2.cvtColor(slide_block, cv2.COLOR_BGR2RGB)\n",
    "    dst_mask=np.zeros((img_height,img_width),dtype=np.uint8)\n",
    "    cv2.imwrite(f_path+str(i)+'.tiff', image)"
   ]
  }
 ],
 "metadata": {
  "kernelspec": {
   "display_name": "LeeYS",
   "language": "python",
   "name": "python3"
  },
  "language_info": {
   "codemirror_mode": {
    "name": "ipython",
    "version": 3
   },
   "file_extension": ".py",
   "mimetype": "text/x-python",
   "name": "python",
   "nbconvert_exporter": "python",
   "pygments_lexer": "ipython3",
   "version": "3.9.0"
  },
  "orig_nbformat": 4
 },
 "nbformat": 4,
 "nbformat_minor": 2
}
