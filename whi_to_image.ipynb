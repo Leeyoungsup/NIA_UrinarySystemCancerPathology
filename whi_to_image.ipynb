{
 "cells": [
  {
   "cell_type": "code",
   "execution_count": 1,
   "metadata": {},
   "outputs": [],
   "source": [
    "import os\n",
    "import numpy as np \n",
    "from glob import glob\n",
    "from PIL import Image\n",
    "import cv2\n",
    "import slideio\n",
    "import json\n",
    "from skimage.draw import polygon2mask\n",
    "import matplotlib.pyplot as plt\n",
    "from tqdm.notebook import tqdm"
   ]
  },
  {
   "cell_type": "code",
   "execution_count": 2,
   "metadata": {},
   "outputs": [],
   "source": [
    "CLS_whi_list=glob('../../data/1-cycle_30%_중간데이터/1_insitu/WSI/*.tiff')\n",
    "normal_whi_list=glob('../../data/1-cycle_30%_중간데이터/0_normal/WSI/*.tiff')\n",
    "abnormal_whi_list=glob('../../data/1-cycle_30%_중간데이터/2_malignant/WSI/*.tiff')\n",
    "\n",
    "image_path='../../data/1-cycle_30%_중간데이터/segmentation/image/'\n",
    "CLS_mask_path='../../data/1-cycle_30%_중간데이터/classification/polygon/1_insitu/'\n",
    "normal_mask_path='../../data/1-cycle_30%_중간데이터/classification/polygon/0_normal/'\n",
    "abnormal_mask_path='../../data/1-cycle_30%_중간데이터/classification/polygon/2_malignant/'\n"
   ]
  },
  {
   "cell_type": "code",
   "execution_count": 3,
   "metadata": {},
   "outputs": [],
   "source": [
    "def size_ratio(scene,img_size):\n",
    "    width = scene.rect[2]\n",
    "    height = scene.rect[3]\n",
    "    ratio=0\n",
    "    inverse_ratio=0\n",
    "    img_width=0\n",
    "    img_height=0\n",
    "    if width>height:\n",
    "        ratio=img_size/width\n",
    "        inverse_ratio=width/img_size\n",
    "        img_width=img_size\n",
    "        img_height=height*ratio\n",
    "    else:\n",
    "        ratio=img_size/height\n",
    "        inverse_ratio=height/img_size\n",
    "        img_height=img_size\n",
    "        img_width=width*ratio\n",
    "        \n",
    "    return int(img_width),int(img_height),inverse_ratio"
   ]
  },
  {
   "cell_type": "markdown",
   "metadata": {},
   "source": [
    "seg"
   ]
  },
  {
   "cell_type": "code",
   "execution_count": 4,
   "metadata": {},
   "outputs": [
    {
     "data": {
      "application/vnd.jupyter.widget-view+json": {
       "model_id": "48c01d1ecb084b5299c669e09d39ff46",
       "version_major": 2,
       "version_minor": 0
      },
      "text/plain": [
       "  0%|          | 0/1485 [00:00<?, ?it/s]"
      ]
     },
     "metadata": {},
     "output_type": "display_data"
    }
   ],
   "source": [
    "json_list=[f.replace('/WSI/', '/json/') for f in CLS_whi_list]\n",
    "json_list=[f.replace('.tiff', '.json') for f in json_list]\n",
    "for i in tqdm(range(len(CLS_whi_list))):\n",
    "    slide = slideio.open_slide(CLS_whi_list[i], \"GDAL\")\n",
    "    fileName=os.path.basename(os.path.splitext(CLS_whi_list[i])[0])\n",
    "    num_scenes = slide.num_scenes\n",
    "    scene = slide.get_scene(0)\n",
    "    img_width,img_height,ratio=size_ratio(scene,2048)\n",
    "    svsWidth = scene.rect[2]\n",
    "    svsHeight = scene.rect[3]\n",
    "    slide_block = scene.read_block((0, 0, svsWidth, svsHeight),size=(int(img_width), int(img_height)))\n",
    "    \n",
    "    dst_mask=np.zeros((img_height,img_width),dtype=np.uint8)\n",
    "    with open(json_list[i]) as f:\n",
    "        json_object = json.load(f)\n",
    "    polygon_count=len(json_object['files'][0]['objects'])\n",
    "    image_shape=(img_height,img_width)\n",
    "    for j in range(polygon_count):\n",
    "        if json_object['files'][0]['objects'][j]['label']=='TP_tumor':\n",
    "            polygon=np.array(json_object['files'][0]['objects'][j]['coordinate'])*1/ratio\n",
    "            polygon1=np.copy(polygon)\n",
    "            polygon1[:,0]=polygon[:,1]\n",
    "            polygon1[:,1]=polygon[:,0]\n",
    "            mask=polygon2mask(image_shape,polygon1)\n",
    "            dst_mask=mask+dst_mask\n",
    "    dst_mask=np.where(dst_mask>0,255,0)\n",
    "    dst_mask=cv2.cvtColor(dst_mask.astype(np.uint8), cv2.COLOR_GRAY2RGB)\n",
    "    cv2.imwrite(CLS_mask_path+fileName+'.tiff', dst_mask )"
   ]
  },
  {
   "cell_type": "code",
   "execution_count": 5,
   "metadata": {},
   "outputs": [
    {
     "data": {
      "application/vnd.jupyter.widget-view+json": {
       "model_id": "5de3978da0ae48b29b97da3253308a87",
       "version_major": 2,
       "version_minor": 0
      },
      "text/plain": [
       "  0%|          | 0/1485 [00:00<?, ?it/s]"
      ]
     },
     "metadata": {},
     "output_type": "display_data"
    }
   ],
   "source": [
    "json_list=[f.replace('/WSI/', '/json/') for f in normal_whi_list]\n",
    "json_list=[f.replace('.tiff', '.json') for f in json_list]\n",
    "for i in tqdm(range(len(normal_whi_list))):\n",
    "    slide = slideio.open_slide(normal_whi_list[i], \"GDAL\")\n",
    "    fileName=os.path.basename(os.path.splitext(normal_whi_list[i])[0])\n",
    "    num_scenes = slide.num_scenes\n",
    "    scene = slide.get_scene(0)\n",
    "    img_width,img_height,ratio=size_ratio(scene,2048)\n",
    "    svsWidth = scene.rect[2]\n",
    "    svsHeight = scene.rect[3]\n",
    "    slide_block = scene.read_block((0, 0, svsWidth, svsHeight),size=(int(img_width), int(img_height)))\n",
    "    \n",
    "    dst_mask=np.zeros((img_height,img_width),dtype=np.uint8)\n",
    "    with open(json_list[i]) as f:\n",
    "        json_object = json.load(f)\n",
    "    polygon_count=len(json_object['files'][0]['objects'])\n",
    "    image_shape=(img_height,img_width)\n",
    "    for j in range(polygon_count):\n",
    "        if json_object['files'][0]['objects'][j]['label']=='NT_normal':\n",
    "            polygon=np.array(json_object['files'][0]['objects'][j]['coordinate'])*1/ratio\n",
    "            polygon1=np.copy(polygon)\n",
    "            polygon1[:,0]=polygon[:,1]\n",
    "            polygon1[:,1]=polygon[:,0]\n",
    "            mask=polygon2mask(image_shape,polygon1)\n",
    "            dst_mask=mask+dst_mask\n",
    "    dst_mask=np.where(dst_mask>0,255,0)\n",
    "    dst_mask=cv2.cvtColor(dst_mask.astype(np.uint8), cv2.COLOR_GRAY2RGB)\n",
    "    cv2.imwrite(normal_mask_path+fileName+'.tiff', dst_mask )"
   ]
  },
  {
   "cell_type": "code",
   "execution_count": 6,
   "metadata": {},
   "outputs": [
    {
     "data": {
      "application/vnd.jupyter.widget-view+json": {
       "model_id": "b08cc0b16c704998bf6c266dd6ec7ca5",
       "version_major": 2,
       "version_minor": 0
      },
      "text/plain": [
       "  0%|          | 0/1765 [00:00<?, ?it/s]"
      ]
     },
     "metadata": {},
     "output_type": "display_data"
    }
   ],
   "source": [
    "json_list=[f.replace('/WSI/', '/json/') for f in abnormal_whi_list]\n",
    "json_list=[f.replace('.tiff', '.json') for f in json_list]\n",
    "for i in tqdm(range(len(abnormal_whi_list))):\n",
    "    slide = slideio.open_slide(abnormal_whi_list[i], \"GDAL\")\n",
    "    fileName=os.path.basename(os.path.splitext(abnormal_whi_list[i])[0])\n",
    "    num_scenes = slide.num_scenes\n",
    "    scene = slide.get_scene(0)\n",
    "    img_width,img_height,ratio=size_ratio(scene,2048)\n",
    "    svsWidth = scene.rect[2]\n",
    "    svsHeight = scene.rect[3]\n",
    "    slide_block = scene.read_block((0, 0, svsWidth, svsHeight),size=(int(img_width), int(img_height)))\n",
    "    dst_mask=np.zeros((img_height,img_width),dtype=np.uint8)\n",
    "    with open(json_list[i]) as f:\n",
    "        json_object = json.load(f)\n",
    "    polygon_count=len(json_object['files'][0]['objects'])\n",
    "    image_shape=(img_height,img_width)\n",
    "    for j in range(polygon_count):\n",
    "        if json_object['files'][0]['objects'][j]['label']=='TP_tumor':\n",
    "            polygon=np.array(json_object['files'][0]['objects'][j]['coordinate'])*1/ratio\n",
    "            polygon1=np.copy(polygon)\n",
    "            polygon1[:,0]=polygon[:,1]\n",
    "            polygon1[:,1]=polygon[:,0]\n",
    "            mask=polygon2mask(image_shape,polygon1)\n",
    "            dst_mask=mask+dst_mask\n",
    "    dst_mask=np.where(dst_mask>0,255,0)\n",
    "    dst_mask=cv2.cvtColor(dst_mask.astype(np.uint8), cv2.COLOR_GRAY2RGB)\n",
    "    cv2.imwrite(abnormal_mask_path+fileName+'.tiff', dst_mask )"
   ]
  },
  {
   "cell_type": "markdown",
   "metadata": {},
   "source": [
    "cla"
   ]
  },
  {
   "cell_type": "code",
   "execution_count": 7,
   "metadata": {},
   "outputs": [],
   "source": [
    "negative_whi_list=glob('../../data/1-cycle_10%_초기데이터/방광암/tiff/정상(비종양)/*.tiff')\n",
    "positive_whi_list=glob('../../data/1-cycle_10%_초기데이터/방광암/tiff/종양(악성)/*.tiff')\n",
    "CIS_whi_list=glob('../../data/1-cycle_10%_초기데이터/방광암/tiff/제자리암종/*.tiff')\n",
    "f_path='../../data/1-cycle_10%_초기데이터/classification/negative/'\n",
    "for i in range(len(negative_whi_list)):\n",
    "    slide = slideio.open_slide(negative_whi_list[i], \"GDAL\")\n",
    "    num_scenes = slide.num_scenes\n",
    "    \n",
    "    scene = slide.get_scene(0)\n",
    "    svsWidth = scene.rect[2]\n",
    "    svsHeight = scene.rect[3]\n",
    "    slide_block = scene.read_block((0, 0, svsWidth, svsHeight),size=(int(512), int(512)))\n",
    "    image=cv2.cvtColor(slide_block, cv2.COLOR_BGR2RGB)\n",
    "    dst_mask=np.zeros((img_height,img_width),dtype=np.uint8)\n",
    "    cv2.imwrite(f_path+str(i)+'.tiff', image)\n",
    "    \n",
    "f_path='../../data/1-cycle_10%_초기데이터/classification/positive/'\n",
    "for i in range(len(positive_whi_list)):\n",
    "    slide = slideio.open_slide(positive_whi_list[i], \"GDAL\")\n",
    "    num_scenes = slide.num_scenes\n",
    "    scene = slide.get_scene(0)\n",
    "    svsWidth = scene.rect[2]\n",
    "    svsHeight = scene.rect[3]\n",
    "    slide_block = scene.read_block((0, 0, svsWidth, svsHeight),size=(int(512), int(512)))\n",
    "    image=cv2.cvtColor(slide_block, cv2.COLOR_BGR2RGB)\n",
    "    dst_mask=np.zeros((img_height,img_width),dtype=np.uint8)\n",
    "    cv2.imwrite(f_path+str(i)+'.tiff', image)\n",
    "    \n",
    "f_path='../../data/1-cycle_10%_초기데이터/classification/CIS/'\n",
    "for i in range(len(CIS_whi_list)):\n",
    "    slide = slideio.open_slide(CIS_whi_list[i], \"GDAL\")\n",
    "    num_scenes = slide.num_scenes\n",
    "    scene = slide.get_scene(0)\n",
    "    svsWidth = scene.rect[2]\n",
    "    svsHeight = scene.rect[3]\n",
    "    slide_block = scene.read_block((0, 0, svsWidth, svsHeight),size=(int(512), int(512)))\n",
    "    image=cv2.cvtColor(slide_block, cv2.COLOR_BGR2RGB)\n",
    "    dst_mask=np.zeros((img_height,img_width),dtype=np.uint8)\n",
    "    cv2.imwrite(f_path+str(i)+'.tiff', image)"
   ]
  }
 ],
 "metadata": {
  "kernelspec": {
   "display_name": "LeeYS",
   "language": "python",
   "name": "python3"
  },
  "language_info": {
   "codemirror_mode": {
    "name": "ipython",
    "version": 3
   },
   "file_extension": ".py",
   "mimetype": "text/x-python",
   "name": "python",
   "nbconvert_exporter": "python",
   "pygments_lexer": "ipython3",
   "version": "3.9.0"
  },
  "orig_nbformat": 4
 },
 "nbformat": 4,
 "nbformat_minor": 2
}
