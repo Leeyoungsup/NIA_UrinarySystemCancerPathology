{
 "cells": [
  {
   "cell_type": "code",
   "execution_count": 197,
   "metadata": {},
   "outputs": [],
   "source": [
    "import pandas as pd\n",
    "import data_preprocess\n",
    "import prediction\n",
    "from glob import glob\n",
    "from torchvision.transforms.functional import to_pil_image\n",
    "import torch\n",
    "import torch.nn.functional as F\n",
    "import os\n",
    "import numpy as np\n",
    "def createDirectory(directory):\n",
    "    try:\n",
    "        if not os.path.exists(directory):\n",
    "            os.makedirs(directory)\n",
    "    except OSError:\n",
    "        print(\"Error: Failed to create the directory.\")\n",
    "        \n",
    "def dice_loss(pred, target,smooth):\n",
    "    num_classes=1\n",
    "    dice_per_class = torch.zeros(num_classes).to(pred.device)\n",
    "    \n",
    "    for class_id in range(num_classes):\n",
    "        pred_class = pred[:,  ...]\n",
    "        target_class = target[:,  ...]\n",
    "\n",
    "        intersection = torch.sum(pred_class * target_class)\n",
    "        A_sum = torch.sum(pred_class * pred_class)\n",
    "        B_sum = torch.sum(target_class * target_class)\n",
    "\n",
    "        dice_per_class[class_id] = 1 - (2. * intersection + smooth) / (A_sum + B_sum + smooth)\n",
    "\n",
    "    return torch.mean(dice_per_class)"
   ]
  },
  {
   "cell_type": "code",
   "execution_count": 2,
   "metadata": {},
   "outputs": [
    {
     "name": "stdout",
     "output_type": "stream",
     "text": [
      "[Predict Start]\n",
      "Predict Start Time : 2023-11-8 14:59:46\n",
      "Data load...\n"
     ]
    },
    {
     "data": {
      "application/vnd.jupyter.widget-view+json": {
       "model_id": "14a44a3bfc3147dfbbd6d4c33f683077",
       "version_major": 2,
       "version_minor": 0
      },
      "text/plain": [
       "  0%|          | 0/1330 [00:00<?, ?it/s]"
      ]
     },
     "metadata": {},
     "output_type": "display_data"
    },
    {
     "name": "stdout",
     "output_type": "stream",
     "text": [
      "predict...\n"
     ]
    },
    {
     "data": {
      "application/vnd.jupyter.widget-view+json": {
       "model_id": "bb90bfe62847481bb582fd1e1a9b8242",
       "version_major": 2,
       "version_minor": 0
      },
      "text/plain": [
       "  0%|          | 0/1330 [00:00<?, ?it/s]"
      ]
     },
     "metadata": {},
     "output_type": "display_data"
    },
    {
     "name": "stdout",
     "output_type": "stream",
     "text": [
      "Predict Time : 2023-11-8 15:7:11s Time taken : 445.1332697868347\n",
      "[Predict End]\n"
     ]
    },
    {
     "data": {
      "image/png": "[encoded data removed]",
      "text/plain": [
       "<PIL.Image.Image image mode=L size=512x512>"
      ]
     },
     "execution_count": 2,
     "metadata": {},
     "output_type": "execute_result"
    }
   ],
   "source": [
    "whi_list=glob('../../data/1-cycle_30%_중간데이터/test/**/WSI/*.tiff')\n",
    "label_data=pd.read_csv('../../data/1-cycle_30%_중간데이터/test.csv')\n",
    "image_path='../../data/1-cycle_30%_중간데이터/whole_tile/image/'\n",
    "normal_mask_path='../../data/1-cycle_30%_중간데이터/whole_tile/polygon/NT_normal/'\n",
    "tumor_mask_path='../../data/1-cycle_30%_중간데이터/whole_tile/polygon/TP_tumor/'\n",
    "data_preprocess.Preprocessing(whi_list,image_path,normal_mask_path,tumor_mask_path)\n",
    "image_list=glob('../../data/1-cycle_30%_중간데이터/whole_tile/image/*.tiff')\n",
    "total_path, total_y, total_prob, total_dice = prediction.Predict(image_list)\n",
    "label_data['dice']=0\n",
    "\n",
    "\n",
    "to_pil_image(torch.where(total_prob[0][1]>0.5,255,0).type(torch.uint8))"
   ]
  },
  {
   "cell_type": "code",
   "execution_count": 269,
   "metadata": {},
   "outputs": [],
   "source": [
    "threshold=0.5\n",
    "tumor_pre_mask=torch.where(total_prob[:,1]>=threshold,1,0)\n",
    "normal_pre_mask=torch.where(total_prob[:,2]>=threshold,1,0)\n",
    "tumor_mask=total_y[:,1]\n",
    "normal_mask=total_y[:,2]\n",
    "for i in range(226,len(tumor_mask)):\n",
    "    if np.array(label_data.loc[label_data['FileName']==total_path[i][0],['Class']])[0,0]=='normal':\n",
    "        label_data.loc[label_data['FileName']==total_path[i][0],['dice']]=float(int((1-dice_loss(normal_pre_mask[i],normal_mask[i],0).item())*10000))/100\n",
    "    else: \n",
    "        label_data.loc[label_data['FileName']==total_path[i][0],['dice']]=float(int((1-dice_loss(tumor_pre_mask[i],tumor_mask[i],0).item())*10000))/100"
   ]
  },
  {
   "cell_type": "code",
   "execution_count": 267,
   "metadata": {},
   "outputs": [
    {
     "data": {
      "text/plain": [
       "'malignant'"
      ]
     },
     "execution_count": 267,
     "metadata": {},
     "output_type": "execute_result"
    }
   ],
   "source": [
    "np.array(label_data.loc[label_data['FileName']==total_path[i][0],['Class']])[0,0]"
   ]
  },
  {
   "cell_type": "code",
   "execution_count": 270,
   "metadata": {},
   "outputs": [
    {
     "data": {
      "text/html": [
       "<div>\n",
       "<style scoped>\n",
       "    .dataframe tbody tr th:only-of-type {\n",
       "        vertical-align: middle;\n",
       "    }\n",
       "\n",
       "    .dataframe tbody tr th {\n",
       "        vertical-align: top;\n",
       "    }\n",
       "\n",
       "    .dataframe thead th {\n",
       "        text-align: right;\n",
       "    }\n",
       "</style>\n",
       "<table border=\"1\" class=\"dataframe\">\n",
       "  <thead>\n",
       "    <tr style=\"text-align: right;\">\n",
       "      <th></th>\n",
       "      <th>FileName</th>\n",
       "      <th>Class</th>\n",
       "      <th>dice</th>\n",
       "    </tr>\n",
       "  </thead>\n",
       "  <tbody>\n",
       "    <tr>\n",
       "      <th>0</th>\n",
       "      <td>BLOP-SS-00241-S-NT-01</td>\n",
       "      <td>normal</td>\n",
       "      <td>98.77</td>\n",
       "    </tr>\n",
       "    <tr>\n",
       "      <th>1</th>\n",
       "      <td>BLOP-AJ-00307-S-NT-01</td>\n",
       "      <td>normal</td>\n",
       "      <td>99.54</td>\n",
       "    </tr>\n",
       "    <tr>\n",
       "      <th>2</th>\n",
       "      <td>BLOP-SS-00114-S-NT-01</td>\n",
       "      <td>normal</td>\n",
       "      <td>96.62</td>\n",
       "    </tr>\n",
       "    <tr>\n",
       "      <th>3</th>\n",
       "      <td>BLOP-SS-00257-S-NT-03</td>\n",
       "      <td>normal</td>\n",
       "      <td>96.26</td>\n",
       "    </tr>\n",
       "    <tr>\n",
       "      <th>4</th>\n",
       "      <td>BLOP-SS-00022-S-NT-01</td>\n",
       "      <td>normal</td>\n",
       "      <td>98.93</td>\n",
       "    </tr>\n",
       "    <tr>\n",
       "      <th>...</th>\n",
       "      <td>...</td>\n",
       "      <td>...</td>\n",
       "      <td>...</td>\n",
       "    </tr>\n",
       "    <tr>\n",
       "      <th>1326</th>\n",
       "      <td>BLOP-AJ-00082-S-TP-01</td>\n",
       "      <td>malignant</td>\n",
       "      <td>92.42</td>\n",
       "    </tr>\n",
       "    <tr>\n",
       "      <th>1327</th>\n",
       "      <td>BLOP-KA-00726-S-TP-04</td>\n",
       "      <td>malignant</td>\n",
       "      <td>78.48</td>\n",
       "    </tr>\n",
       "    <tr>\n",
       "      <th>1328</th>\n",
       "      <td>BLOP-SV-00281-S-TP-02</td>\n",
       "      <td>malignant</td>\n",
       "      <td>90.56</td>\n",
       "    </tr>\n",
       "    <tr>\n",
       "      <th>1329</th>\n",
       "      <td>BLOP-SS-00061-S-TP-03</td>\n",
       "      <td>malignant</td>\n",
       "      <td>92.57</td>\n",
       "    </tr>\n",
       "    <tr>\n",
       "      <th>1330</th>\n",
       "      <td>BLOP-SV-00029-S-TP-01</td>\n",
       "      <td>malignant</td>\n",
       "      <td>73.57</td>\n",
       "    </tr>\n",
       "  </tbody>\n",
       "</table>\n",
       "<p>1331 rows × 3 columns</p>\n",
       "</div>"
      ],
      "text/plain": [
       "                   FileName      Class   dice\n",
       "0     BLOP-SS-00241-S-NT-01     normal  98.77\n",
       "1     BLOP-AJ-00307-S-NT-01     normal  99.54\n",
       "2     BLOP-SS-00114-S-NT-01     normal  96.62\n",
       "3     BLOP-SS-00257-S-NT-03     normal  96.26\n",
       "4     BLOP-SS-00022-S-NT-01     normal  98.93\n",
       "...                     ...        ...    ...\n",
       "1326  BLOP-AJ-00082-S-TP-01  malignant  92.42\n",
       "1327  BLOP-KA-00726-S-TP-04  malignant  78.48\n",
       "1328  BLOP-SV-00281-S-TP-02  malignant  90.56\n",
       "1329  BLOP-SS-00061-S-TP-03  malignant  92.57\n",
       "1330  BLOP-SV-00029-S-TP-01  malignant  73.57\n",
       "\n",
       "[1331 rows x 3 columns]"
      ]
     },
     "execution_count": 270,
     "metadata": {},
     "output_type": "execute_result"
    }
   ],
   "source": [
    "label_data"
   ]
  },
  {
   "cell_type": "code",
   "execution_count": 266,
   "metadata": {},
   "outputs": [
    {
     "data": {
      "image/png": "[encoded data removed]",
      "text/plain": [
       "<PIL.Image.Image image mode=L size=512x512>"
      ]
     },
     "execution_count": 266,
     "metadata": {},
     "output_type": "execute_result"
    }
   ],
   "source": [
    "to_pil_image((tumor_mask[225].type(torch.uint8))*255)"
   ]
  },
  {
   "cell_type": "code",
   "execution_count": 159,
   "metadata": {},
   "outputs": [
    {
     "data": {
      "image/png": "[encoded data removed]",
      "text/plain": [
       "<PIL.Image.Image image mode=L size=512x512>"
      ]
     },
     "execution_count": 159,
     "metadata": {},
     "output_type": "execute_result"
    }
   ],
   "source": [
    "to_pil_image((tumor_pre_mask[6].type(torch.uint8))*255)"
   ]
  }
 ],
 "metadata": {
  "kernelspec": {
   "display_name": "LeeYS",
   "language": "python",
   "name": "python3"
  },
  "language_info": {
   "codemirror_mode": {
    "name": "ipython",
    "version": 3
   },
   "file_extension": ".py",
   "mimetype": "text/x-python",
   "name": "python",
   "nbconvert_exporter": "python",
   "pygments_lexer": "ipython3",
   "version": "3.9.0"
  }
 },
 "nbformat": 4,
 "nbformat_minor": 2
}
