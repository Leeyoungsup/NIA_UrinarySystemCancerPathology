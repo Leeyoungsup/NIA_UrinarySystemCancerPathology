{
 "cells": [
  {
   "cell_type": "code",
   "execution_count": 52,
   "metadata": {},
   "outputs": [],
   "source": [
    "from glob import glob\n",
    "import os\n",
    "import shutil\n",
    "import random\n",
    "import pandas as pd"
   ]
  },
  {
   "cell_type": "code",
   "execution_count": 53,
   "metadata": {},
   "outputs": [],
   "source": [
    "WSI_file_list=glob('../../data/1-cycle_30%_중간데이터/0_normal/WSI/*.tiff')\n",
    "json_file_list=[f.replace('.tiff', '.json') for f in WSI_file_list]\n",
    "json_file_list=[f.replace('/WSI', '/json') for f in json_file_list]\n",
    "json_path_list=[f.replace('/1-cycle_30%_중간데이터/', '/1-cycle_30%_중간데이터/test/') for f in json_file_list]\n",
    "WSI_path_list=[f.replace('/1-cycle_30%_중간데이터/', '/1-cycle_30%_중간데이터/test/') for f in WSI_file_list]\n",
    "df=pd.DataFrame(columns=['FileName','Class'])\n",
    "alist=[]    \n",
    "count=0# 뽑은 a를 넣어 중복 방지해주는 리스트         \n",
    "for i in range(166):\n",
    "  a = random.randint(0,len(WSI_file_list)-1)       \n",
    "  while a in alist :              # a가 이미 뽑은 리스트에 있을 때까지 다시 뽑자\n",
    "    a = random.randint(0,len(WSI_file_list)-1)\n",
    "  alist.append(a) # 새로운 a 값을 리스트에 추가\n",
    "  file_name=os.path.splitext(os.path.basename(WSI_file_list[alist[i]]))[0]\n",
    "  df.loc[count]=[file_name,'normal']\n",
    "  count+=1\n",
    "  shutil.move(json_file_list[alist[i]],json_path_list[alist[i]])\n",
    "  shutil.move(WSI_file_list[alist[i]],WSI_path_list[alist[i]])"
   ]
  },
  {
   "cell_type": "code",
   "execution_count": 55,
   "metadata": {},
   "outputs": [],
   "source": [
    "WSI_file_list=glob('../../data/1-cycle_30%_중간데이터/1_insitu/WSI/*.tiff')\n",
    "json_file_list=[f.replace('.tiff', '.json') for f in WSI_file_list]\n",
    "json_file_list=[f.replace('/WSI', '/json') for f in json_file_list]\n",
    "json_path_list=[f.replace('/1-cycle_30%_중간데이터/', '/1-cycle_30%_중간데이터/test/') for f in json_file_list]\n",
    "WSI_path_list=[f.replace('/1-cycle_30%_중간데이터/', '/1-cycle_30%_중간데이터/test/') for f in WSI_file_list]\n",
    "alist=[]           \n",
    "for i in range(611):\n",
    "  a = random.randint(0,len(WSI_file_list)-1)       \n",
    "  while a in alist :              # a가 이미 뽑은 리스트에 있을 때까지 다시 뽑자\n",
    "    a = random.randint(0,len(WSI_file_list)-1)\n",
    "  alist.append(a) # 새로운 a 값을 리스트에 추가\n",
    "  file_name=os.path.splitext(os.path.basename(WSI_file_list[a]))[0]\n",
    "  df.loc[count]=[file_name,'insitu']\n",
    "  count+=1\n",
    "  shutil.move(json_file_list[a],json_path_list[a])\n",
    "  shutil.move(WSI_file_list[a],WSI_path_list[a])"
   ]
  },
  {
   "cell_type": "code",
   "execution_count": 56,
   "metadata": {},
   "outputs": [],
   "source": [
    "WSI_file_list=glob('../../data/1-cycle_30%_중간데이터/2_malignant/WSI/*.tiff')\n",
    "json_file_list=[f.replace('.tiff', '.json') for f in WSI_file_list]\n",
    "json_file_list=[f.replace('/WSI', '/json') for f in json_file_list]\n",
    "json_path_list=[f.replace('/1-cycle_30%_중간데이터/', '/1-cycle_30%_중간데이터/test/') for f in json_file_list]\n",
    "WSI_path_list=[f.replace('/1-cycle_30%_중간데이터/', '/1-cycle_30%_중간데이터/test/') for f in WSI_file_list]\n",
    "alist=[]           \n",
    "for i in range(553):\n",
    "  a = random.randint(0,len(WSI_file_list)-1)       \n",
    "  while a in alist :              # a가 이미 뽑은 리스트에 있을 때까지 다시 뽑자\n",
    "    a = random.randint(0,len(WSI_file_list)-1)\n",
    "  alist.append(a) # 새로운 a 값을 리스트에 추가\n",
    "  file_name=os.path.splitext(os.path.basename(WSI_file_list[a]))[0]\n",
    "  df.loc[count]=[file_name,'malignant']\n",
    "  count+=1\n",
    "  shutil.move(json_file_list[a],json_path_list[a])\n",
    "  shutil.move(WSI_file_list[a],WSI_path_list[a])"
   ]
  },
  {
   "cell_type": "code",
   "execution_count": 57,
   "metadata": {},
   "outputs": [],
   "source": [
    "df.to_csv('../../data/1-cycle_30%_중간데이터/test.csv')"
   ]
  }
 ],
 "metadata": {
  "kernelspec": {
   "display_name": "LeeYS",
   "language": "python",
   "name": "python3"
  },
  "language_info": {
   "codemirror_mode": {
    "name": "ipython",
    "version": 3
   },
   "file_extension": ".py",
   "mimetype": "text/x-python",
   "name": "python",
   "nbconvert_exporter": "python",
   "pygments_lexer": "ipython3",
   "version": "3.9.0"
  }
 },
 "nbformat": 4,
 "nbformat_minor": 2
}
