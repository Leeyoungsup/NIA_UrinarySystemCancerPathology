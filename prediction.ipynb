{
 "cells": [
  {
   "cell_type": "code",
   "execution_count": 17,
   "metadata": {},
   "outputs": [],
   "source": [
    "import matplotlib.pyplot as plt\n",
    "import numpy as np\n",
    "import torch.nn as nn\n",
    "from torch.utils.data import Dataset, DataLoader\n",
    "from torchvision import transforms, datasets, models\n",
    "import torch\n",
    "from torchinfo import summary\n",
    "from PIL import Image\n",
    "from torchvision.transforms import ToTensor\n",
    "from glob import glob\n",
    "from torch.utils.data import Dataset, DataLoader\n",
    "from collections import defaultdict\n",
    "import torch.nn.functional as F\n",
    "from tqdm.auto import tqdm\n",
    "import segmentation_models_pytorch as smp\n",
    "import time\n",
    "import datetime\n",
    "from sklearn.metrics import roc_auc_score\n",
    "from sklearn.metrics import confusion_matrix\n",
    "from sklearn.metrics import f1_score\n",
    "import os\n",
    "device = torch.device(\"cuda:0\" if torch.cuda.is_available() else \"cpu\")\n",
    "batch_size=1\n",
    "image_count=50\n",
    "img_size=512\n",
    "tf = ToTensor()\n",
    "\n",
    "image_list=glob('../../data/1-cycle_30%_중간데이터/whole_tile/image/*.tiff')\n",
    "\n"
   ]
  },
  {
   "cell_type": "code",
   "execution_count": 43,
   "metadata": {},
   "outputs": [],
   "source": [
    "def expand2square(pil_img, background_color):\n",
    "    width, height = pil_img.size\n",
    "    if width == height:\n",
    "        return pil_img\n",
    "    elif width > height:\n",
    "        result = Image.new(pil_img.mode, (width, width), background_color)\n",
    "        result.paste(pil_img, (0, (width - height) // 2))\n",
    "        return result\n",
    "    else:\n",
    "        result = Image.new(pil_img.mode, (height, height), background_color)\n",
    "        result.paste(pil_img, ((height - width) // 2, 0))\n",
    "        return result\n",
    "class CustomDataset(Dataset):\n",
    "    def __init__(self, image_list, label_list,file_list):\n",
    "        self.img_path = image_list\n",
    "        self.label = label_list\n",
    "        self.file_list=file_list\n",
    "    def __len__(self):\n",
    "        return len(self.label)\n",
    "\n",
    "    def __getitem__(self, idx):\n",
    "        image_tensor = self.img_path[idx]\n",
    "        label_tensor =  self.label[idx]\n",
    "        path=os.path.splitext(os.path.basename(self.file_list[idx]))[0]\n",
    "        return image_tensor, label_tensor,path\n",
    "        "
   ]
  },
  {
   "cell_type": "code",
   "execution_count": 44,
   "metadata": {},
   "outputs": [],
   "source": [
    "def data_load(image_list):\n",
    "    tumor_mask_list=[f.replace('/image/', '/polygon/TP_tumor/') for f in image_list]\n",
    "    normal_mask_list=[f.replace('/image/', '/polygon/NT_normal/') for f in image_list]\n",
    "    \n",
    "    image=torch.zeros((len(image_list),3,img_size,img_size))\n",
    "    mask=torch.zeros((len(image_list),3,img_size,img_size))\n",
    "\n",
    "    for i in tqdm(range(len(image_list))):\n",
    "        img=1-tf(np.array(expand2square(Image.open(image_list[i]),(255,255,255)).resize((img_size,img_size))))\n",
    "        msk_tumor=np.array((expand2square(Image.open(tumor_mask_list[i]),(0,0,0)).convert('L')).resize((img_size,img_size)))\n",
    "        msk_normal=np.array((expand2square(Image.open(normal_mask_list[i]),(0,0,0)).convert('L')).resize((img_size,img_size)))\n",
    "        msk_back=np.where((msk_tumor+msk_normal)==0,255,0)\n",
    "        image[i]=img\n",
    "        mask[i,0]=tf(msk_back)\n",
    "        mask[i,1]=tf(msk_tumor)\n",
    "        mask[i,2]=tf(msk_normal)\n",
    "        \n",
    "    \n",
    "\n",
    "    dataset = CustomDataset(image, mask,image_list)\n",
    "    dataloader = DataLoader(dataset, batch_size=batch_size, shuffle=True, drop_last=True)\n",
    "    return dataloader\n",
    "def dice_loss(pred, target, num_classes=3):\n",
    "    smooth = 1.\n",
    "    dice_per_class = torch.zeros(num_classes).to(pred.device)\n",
    "    \n",
    "    for class_id in range(num_classes):\n",
    "        pred_class = pred[:, class_id, ...]\n",
    "        target_class = target[:, class_id, ...]\n",
    "\n",
    "        intersection = torch.sum(pred_class * target_class)\n",
    "        A_sum = torch.sum(pred_class * pred_class)\n",
    "        B_sum = torch.sum(target_class * target_class)\n",
    "\n",
    "        dice_per_class[class_id] = 1 - (2. * intersection + smooth) / (A_sum + B_sum + smooth)\n",
    "\n",
    "    return dice_per_class"
   ]
  },
  {
   "cell_type": "code",
   "execution_count": 45,
   "metadata": {},
   "outputs": [],
   "source": [
    "def Predict(image_list):\n",
    "    start = time.time()\n",
    "    d = datetime.datetime.now()\n",
    "    now_time = f\"{d.year}-{d.month}-{d.day} {d.hour}:{d.minute}:{d.second}\"\n",
    "    print(f'[Predict Start]')\n",
    "    print(f'Predict Start Time : {now_time}')\n",
    "    print('Data load...')\n",
    "    dataloader=data_load(image_list)\n",
    "    model=smp.UnetPlusPlus('efficientnet-b6', in_channels=3, classes=3).to(device)\n",
    "    model.load_state_dict(torch.load('../../model/Best_model.pt'))\n",
    "    total_path =[]\n",
    "    total_prob = torch.zeros((len(dataloader),3,img_size,img_size)).to(device)\n",
    "    total_y = torch.zeros((len(dataloader),3,img_size,img_size)).to(device)\n",
    "    total_dice=torch.zeros((len(dataloader),3)).to(device)\n",
    "    model.eval()\n",
    "    count=0\n",
    "    val_running_loss=0.0\n",
    "    acc_loss=0\n",
    "    test=tqdm(dataloader)\n",
    "\n",
    "    print('predict...')\n",
    "    with torch.no_grad():\n",
    "        for x, y,path in test:\n",
    "            y = y.to(device).float()\n",
    "            x=x.to(device).float()\n",
    "            predict = model(x).to(device)\n",
    "            cost = torch.mean(dice_loss(predict, y,num_classes=3)) # cost 구함\n",
    "            acc=1-torch.mean(dice_loss(predict, y,num_classes=3))\n",
    "            val_running_loss+=cost.item()\n",
    "            acc_loss+=acc\n",
    "            prob_pred = predict\n",
    "            total_path.append(path)\n",
    "            total_prob[count] = predict.squeeze(dim=1)\n",
    "            total_y[count] = y.squeeze(dim=1)\n",
    "            total_dice[count] = dice_loss(predict, y,num_classes=3)\n",
    "            count+=1\n",
    "    end = time.time()\n",
    "    d = datetime.datetime.now()\n",
    "    now_time = f\"{d.year}-{d.month}-{d.day} {d.hour}:{d.minute}:{d.second}\"\n",
    "    print(f'Predict Time : {now_time}s Time taken : {end-start}')\n",
    "    print(f'[Predict End]')\n",
    "    return total_path, total_prob.cpu(),total_dice.cpu()\n"
   ]
  },
  {
   "cell_type": "code",
   "execution_count": 46,
   "metadata": {},
   "outputs": [
    {
     "name": "stdout",
     "output_type": "stream",
     "text": [
      "[Predict Start]\n",
      "Predict Start Time : 2023-11-8 14:15:40\n",
      "Data load...\n"
     ]
    },
    {
     "data": {
      "application/vnd.jupyter.widget-view+json": {
       "model_id": "7273e45b632c4fb19a7847b723fad135",
       "version_major": 2,
       "version_minor": 0
      },
      "text/plain": [
       "  0%|          | 0/1330 [00:00<?, ?it/s]"
      ]
     },
     "metadata": {},
     "output_type": "display_data"
    },
    {
     "ename": "KeyboardInterrupt",
     "evalue": "",
     "output_type": "error",
     "traceback": [
      "\u001b[0;31m---------------------------------------------------------------------------\u001b[0m",
      "\u001b[0;31mKeyboardInterrupt\u001b[0m                         Traceback (most recent call last)",
      "\u001b[1;32m/home/gil/gcubme_ai2/Workspace/YS_Lee/NIA_Urinary_System_Cancer_Pathology/code/NIA_UrinarySystemCancerPathology-1/prediction.ipynb 셀 5\u001b[0m line \u001b[0;36m1\n\u001b[0;32m----> <a href='vscode-notebook-cell://ssh-remote%2B7b22686f73744e616d65223a2231302e322e35322e3638222c2275736572223a2267696c227d/home/gil/gcubme_ai2/Workspace/YS_Lee/NIA_Urinary_System_Cancer_Pathology/code/NIA_UrinarySystemCancerPathology-1/prediction.ipynb#X43sdnNjb2RlLXJlbW90ZQ%3D%3D?line=0'>1</a>\u001b[0m Predict(image_list)\n",
      "\u001b[1;32m/home/gil/gcubme_ai2/Workspace/YS_Lee/NIA_Urinary_System_Cancer_Pathology/code/NIA_UrinarySystemCancerPathology-1/prediction.ipynb 셀 5\u001b[0m line \u001b[0;36m8\n\u001b[1;32m      <a href='vscode-notebook-cell://ssh-remote%2B7b22686f73744e616d65223a2231302e322e35322e3638222c2275736572223a2267696c227d/home/gil/gcubme_ai2/Workspace/YS_Lee/NIA_Urinary_System_Cancer_Pathology/code/NIA_UrinarySystemCancerPathology-1/prediction.ipynb#X43sdnNjb2RlLXJlbW90ZQ%3D%3D?line=5'>6</a>\u001b[0m \u001b[39mprint\u001b[39m(\u001b[39mf\u001b[39m\u001b[39m'\u001b[39m\u001b[39mPredict Start Time : \u001b[39m\u001b[39m{\u001b[39;00mnow_time\u001b[39m}\u001b[39;00m\u001b[39m'\u001b[39m)\n\u001b[1;32m      <a href='vscode-notebook-cell://ssh-remote%2B7b22686f73744e616d65223a2231302e322e35322e3638222c2275736572223a2267696c227d/home/gil/gcubme_ai2/Workspace/YS_Lee/NIA_Urinary_System_Cancer_Pathology/code/NIA_UrinarySystemCancerPathology-1/prediction.ipynb#X43sdnNjb2RlLXJlbW90ZQ%3D%3D?line=6'>7</a>\u001b[0m \u001b[39mprint\u001b[39m(\u001b[39m'\u001b[39m\u001b[39mData load...\u001b[39m\u001b[39m'\u001b[39m)\n\u001b[0;32m----> <a href='vscode-notebook-cell://ssh-remote%2B7b22686f73744e616d65223a2231302e322e35322e3638222c2275736572223a2267696c227d/home/gil/gcubme_ai2/Workspace/YS_Lee/NIA_Urinary_System_Cancer_Pathology/code/NIA_UrinarySystemCancerPathology-1/prediction.ipynb#X43sdnNjb2RlLXJlbW90ZQ%3D%3D?line=7'>8</a>\u001b[0m dataloader\u001b[39m=\u001b[39mdata_load(image_list)\n\u001b[1;32m      <a href='vscode-notebook-cell://ssh-remote%2B7b22686f73744e616d65223a2231302e322e35322e3638222c2275736572223a2267696c227d/home/gil/gcubme_ai2/Workspace/YS_Lee/NIA_Urinary_System_Cancer_Pathology/code/NIA_UrinarySystemCancerPathology-1/prediction.ipynb#X43sdnNjb2RlLXJlbW90ZQ%3D%3D?line=8'>9</a>\u001b[0m model\u001b[39m=\u001b[39msmp\u001b[39m.\u001b[39mUnetPlusPlus(\u001b[39m'\u001b[39m\u001b[39mefficientnet-b6\u001b[39m\u001b[39m'\u001b[39m, in_channels\u001b[39m=\u001b[39m\u001b[39m3\u001b[39m, classes\u001b[39m=\u001b[39m\u001b[39m3\u001b[39m)\u001b[39m.\u001b[39mto(device)\n\u001b[1;32m     <a href='vscode-notebook-cell://ssh-remote%2B7b22686f73744e616d65223a2231302e322e35322e3638222c2275736572223a2267696c227d/home/gil/gcubme_ai2/Workspace/YS_Lee/NIA_Urinary_System_Cancer_Pathology/code/NIA_UrinarySystemCancerPathology-1/prediction.ipynb#X43sdnNjb2RlLXJlbW90ZQ%3D%3D?line=9'>10</a>\u001b[0m model\u001b[39m.\u001b[39mload_state_dict(torch\u001b[39m.\u001b[39mload(\u001b[39m'\u001b[39m\u001b[39m../../model/Best_model.pt\u001b[39m\u001b[39m'\u001b[39m))\n",
      "\u001b[1;32m/home/gil/gcubme_ai2/Workspace/YS_Lee/NIA_Urinary_System_Cancer_Pathology/code/NIA_UrinarySystemCancerPathology-1/prediction.ipynb 셀 5\u001b[0m line \u001b[0;36m9\n\u001b[1;32m      <a href='vscode-notebook-cell://ssh-remote%2B7b22686f73744e616d65223a2231302e322e35322e3638222c2275736572223a2267696c227d/home/gil/gcubme_ai2/Workspace/YS_Lee/NIA_Urinary_System_Cancer_Pathology/code/NIA_UrinarySystemCancerPathology-1/prediction.ipynb#X43sdnNjb2RlLXJlbW90ZQ%3D%3D?line=5'>6</a>\u001b[0m mask\u001b[39m=\u001b[39mtorch\u001b[39m.\u001b[39mzeros((\u001b[39mlen\u001b[39m(image_list),\u001b[39m3\u001b[39m,img_size,img_size))\n\u001b[1;32m      <a href='vscode-notebook-cell://ssh-remote%2B7b22686f73744e616d65223a2231302e322e35322e3638222c2275736572223a2267696c227d/home/gil/gcubme_ai2/Workspace/YS_Lee/NIA_Urinary_System_Cancer_Pathology/code/NIA_UrinarySystemCancerPathology-1/prediction.ipynb#X43sdnNjb2RlLXJlbW90ZQ%3D%3D?line=7'>8</a>\u001b[0m \u001b[39mfor\u001b[39;00m i \u001b[39min\u001b[39;00m tqdm(\u001b[39mrange\u001b[39m(\u001b[39mlen\u001b[39m(image_list))):\n\u001b[0;32m----> <a href='vscode-notebook-cell://ssh-remote%2B7b22686f73744e616d65223a2231302e322e35322e3638222c2275736572223a2267696c227d/home/gil/gcubme_ai2/Workspace/YS_Lee/NIA_Urinary_System_Cancer_Pathology/code/NIA_UrinarySystemCancerPathology-1/prediction.ipynb#X43sdnNjb2RlLXJlbW90ZQ%3D%3D?line=8'>9</a>\u001b[0m     img\u001b[39m=\u001b[39m\u001b[39m1\u001b[39m\u001b[39m-\u001b[39mtf(np\u001b[39m.\u001b[39marray(expand2square(Image\u001b[39m.\u001b[39;49mopen(image_list[i]),(\u001b[39m255\u001b[39m,\u001b[39m255\u001b[39m,\u001b[39m255\u001b[39m))\u001b[39m.\u001b[39mresize((img_size,img_size))))\n\u001b[1;32m     <a href='vscode-notebook-cell://ssh-remote%2B7b22686f73744e616d65223a2231302e322e35322e3638222c2275736572223a2267696c227d/home/gil/gcubme_ai2/Workspace/YS_Lee/NIA_Urinary_System_Cancer_Pathology/code/NIA_UrinarySystemCancerPathology-1/prediction.ipynb#X43sdnNjb2RlLXJlbW90ZQ%3D%3D?line=9'>10</a>\u001b[0m     msk_tumor\u001b[39m=\u001b[39mnp\u001b[39m.\u001b[39marray((expand2square(Image\u001b[39m.\u001b[39mopen(tumor_mask_list[i]),(\u001b[39m0\u001b[39m,\u001b[39m0\u001b[39m,\u001b[39m0\u001b[39m))\u001b[39m.\u001b[39mconvert(\u001b[39m'\u001b[39m\u001b[39mL\u001b[39m\u001b[39m'\u001b[39m))\u001b[39m.\u001b[39mresize((img_size,img_size)))\n\u001b[1;32m     <a href='vscode-notebook-cell://ssh-remote%2B7b22686f73744e616d65223a2231302e322e35322e3638222c2275736572223a2267696c227d/home/gil/gcubme_ai2/Workspace/YS_Lee/NIA_Urinary_System_Cancer_Pathology/code/NIA_UrinarySystemCancerPathology-1/prediction.ipynb#X43sdnNjb2RlLXJlbW90ZQ%3D%3D?line=10'>11</a>\u001b[0m     msk_normal\u001b[39m=\u001b[39mnp\u001b[39m.\u001b[39marray((expand2square(Image\u001b[39m.\u001b[39mopen(normal_mask_list[i]),(\u001b[39m0\u001b[39m,\u001b[39m0\u001b[39m,\u001b[39m0\u001b[39m))\u001b[39m.\u001b[39mconvert(\u001b[39m'\u001b[39m\u001b[39mL\u001b[39m\u001b[39m'\u001b[39m))\u001b[39m.\u001b[39mresize((img_size,img_size)))\n",
      "File \u001b[0;32m~/anaconda3/envs/LeeYS/lib/python3.9/site-packages/PIL/Image.py:3236\u001b[0m, in \u001b[0;36mopen\u001b[0;34m(fp, mode, formats)\u001b[0m\n\u001b[1;32m   3233\u001b[0m     fp \u001b[39m=\u001b[39m io\u001b[39m.\u001b[39mBytesIO(fp\u001b[39m.\u001b[39mread())\n\u001b[1;32m   3234\u001b[0m     exclusive_fp \u001b[39m=\u001b[39m \u001b[39mTrue\u001b[39;00m\n\u001b[0;32m-> 3236\u001b[0m prefix \u001b[39m=\u001b[39m fp\u001b[39m.\u001b[39;49mread(\u001b[39m16\u001b[39;49m)\n\u001b[1;32m   3238\u001b[0m preinit()\n\u001b[1;32m   3240\u001b[0m accept_warnings \u001b[39m=\u001b[39m []\n",
      "\u001b[0;31mKeyboardInterrupt\u001b[0m: "
     ]
    }
   ],
   "source": [
    "Predict(image_list)"
   ]
  }
 ],
 "metadata": {
  "kernelspec": {
   "display_name": "LeeYS",
   "language": "python",
   "name": "python3"
  },
  "language_info": {
   "codemirror_mode": {
    "name": "ipython",
    "version": 3
   },
   "file_extension": ".py",
   "mimetype": "text/x-python",
   "name": "python",
   "nbconvert_exporter": "python",
   "pygments_lexer": "ipython3",
   "version": "3.9.0"
  }
 },
 "nbformat": 4,
 "nbformat_minor": 2
}
